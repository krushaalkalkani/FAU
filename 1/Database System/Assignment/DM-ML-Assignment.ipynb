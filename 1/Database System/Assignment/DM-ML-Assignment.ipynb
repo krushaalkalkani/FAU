{
 "cells": [
  {
   "cell_type": "markdown",
   "id": "9295053f-5b04-45f7-b15a-418c9a49cc89",
   "metadata": {},
   "source": [
    "## 14. (coding) Transfer learning VGG16 + cifar 10\n",
    "\n",
    "You have to install Tensorflow library first. (Tensorflow includes keras)\n",
    "\n",
    "1) Complete the following code\n"
   ]
  },
  {
   "cell_type": "code",
   "execution_count": 5,
   "id": "db69f72a-0338-4ace-9bc6-43a3e3f50017",
   "metadata": {},
   "outputs": [],
   "source": [
    "from keras import datasets, layers, models\n",
    "from keras.utils import to_categorical\n",
    "from keras.models import Sequential\n",
    "from keras.layers import Dense, Flatten\n",
    "import matplotlib.pyplot as plt\n",
    "import numpy as np\n",
    "\n",
    "(train_images, train_labels), (test_images, test_labels) = datasets.cifar10.load_data()\n",
    "\n",
    "class_names = ['airplane', 'automobile', 'bird', 'cat', 'deer', 'dog', 'frog', 'horse', 'ship', 'truck']\n",
    "\n",
    "train_images = train_images.astype('float32')\n",
    "test_images = test_images.astype('float32')\n",
    "\n",
    "train_images = train_images / 255\n",
    "test_images = test_images / 255 \n",
    "\n",
    "num_classes = 10\n",
    "train_labels = to_categorical(train_labels, num_classes)\n",
    "test_labels = to_categorical(test_labels, num_classes)"
   ]
  },
  {
   "cell_type": "code",
   "execution_count": 6,
   "id": "531abb0f-d017-4c2b-b653-c9feb115e919",
   "metadata": {},
   "outputs": [
    {
     "data": {
      "text/html": [
       "<pre style=\"white-space:pre;overflow-x:auto;line-height:normal;font-family:Menlo,'DejaVu Sans Mono',consolas,'Courier New',monospace\"><span style=\"font-weight: bold\">Model: \"functional_1\"</span>\n",
       "</pre>\n"
      ],
      "text/plain": [
       "\u001b[1mModel: \"functional_1\"\u001b[0m\n"
      ]
     },
     "metadata": {},
     "output_type": "display_data"
    },
    {
     "data": {
      "text/html": [
       "<pre style=\"white-space:pre;overflow-x:auto;line-height:normal;font-family:Menlo,'DejaVu Sans Mono',consolas,'Courier New',monospace\">┏━━━━━━━━━━━━━━━━━━━━━━━━━━━━━━━━━┳━━━━━━━━━━━━━━━━━━━━━━━━┳━━━━━━━━━━━━━━━┓\n",
       "┃<span style=\"font-weight: bold\"> Layer (type)                    </span>┃<span style=\"font-weight: bold\"> Output Shape           </span>┃<span style=\"font-weight: bold\">       Param # </span>┃\n",
       "┡━━━━━━━━━━━━━━━━━━━━━━━━━━━━━━━━━╇━━━━━━━━━━━━━━━━━━━━━━━━╇━━━━━━━━━━━━━━━┩\n",
       "│ input_layer_1 (<span style=\"color: #0087ff; text-decoration-color: #0087ff\">InputLayer</span>)      │ (<span style=\"color: #00d7ff; text-decoration-color: #00d7ff\">None</span>, <span style=\"color: #00af00; text-decoration-color: #00af00\">32</span>, <span style=\"color: #00af00; text-decoration-color: #00af00\">32</span>, <span style=\"color: #00af00; text-decoration-color: #00af00\">3</span>)      │             <span style=\"color: #00af00; text-decoration-color: #00af00\">0</span> │\n",
       "├─────────────────────────────────┼────────────────────────┼───────────────┤\n",
       "│ block1_conv1 (<span style=\"color: #0087ff; text-decoration-color: #0087ff\">Conv2D</span>)           │ (<span style=\"color: #00d7ff; text-decoration-color: #00d7ff\">None</span>, <span style=\"color: #00af00; text-decoration-color: #00af00\">32</span>, <span style=\"color: #00af00; text-decoration-color: #00af00\">32</span>, <span style=\"color: #00af00; text-decoration-color: #00af00\">64</span>)     │         <span style=\"color: #00af00; text-decoration-color: #00af00\">1,792</span> │\n",
       "├─────────────────────────────────┼────────────────────────┼───────────────┤\n",
       "│ block1_conv2 (<span style=\"color: #0087ff; text-decoration-color: #0087ff\">Conv2D</span>)           │ (<span style=\"color: #00d7ff; text-decoration-color: #00d7ff\">None</span>, <span style=\"color: #00af00; text-decoration-color: #00af00\">32</span>, <span style=\"color: #00af00; text-decoration-color: #00af00\">32</span>, <span style=\"color: #00af00; text-decoration-color: #00af00\">64</span>)     │        <span style=\"color: #00af00; text-decoration-color: #00af00\">36,928</span> │\n",
       "├─────────────────────────────────┼────────────────────────┼───────────────┤\n",
       "│ block1_pool (<span style=\"color: #0087ff; text-decoration-color: #0087ff\">MaxPooling2D</span>)      │ (<span style=\"color: #00d7ff; text-decoration-color: #00d7ff\">None</span>, <span style=\"color: #00af00; text-decoration-color: #00af00\">16</span>, <span style=\"color: #00af00; text-decoration-color: #00af00\">16</span>, <span style=\"color: #00af00; text-decoration-color: #00af00\">64</span>)     │             <span style=\"color: #00af00; text-decoration-color: #00af00\">0</span> │\n",
       "├─────────────────────────────────┼────────────────────────┼───────────────┤\n",
       "│ block2_conv1 (<span style=\"color: #0087ff; text-decoration-color: #0087ff\">Conv2D</span>)           │ (<span style=\"color: #00d7ff; text-decoration-color: #00d7ff\">None</span>, <span style=\"color: #00af00; text-decoration-color: #00af00\">16</span>, <span style=\"color: #00af00; text-decoration-color: #00af00\">16</span>, <span style=\"color: #00af00; text-decoration-color: #00af00\">128</span>)    │        <span style=\"color: #00af00; text-decoration-color: #00af00\">73,856</span> │\n",
       "├─────────────────────────────────┼────────────────────────┼───────────────┤\n",
       "│ block2_conv2 (<span style=\"color: #0087ff; text-decoration-color: #0087ff\">Conv2D</span>)           │ (<span style=\"color: #00d7ff; text-decoration-color: #00d7ff\">None</span>, <span style=\"color: #00af00; text-decoration-color: #00af00\">16</span>, <span style=\"color: #00af00; text-decoration-color: #00af00\">16</span>, <span style=\"color: #00af00; text-decoration-color: #00af00\">128</span>)    │       <span style=\"color: #00af00; text-decoration-color: #00af00\">147,584</span> │\n",
       "├─────────────────────────────────┼────────────────────────┼───────────────┤\n",
       "│ block2_pool (<span style=\"color: #0087ff; text-decoration-color: #0087ff\">MaxPooling2D</span>)      │ (<span style=\"color: #00d7ff; text-decoration-color: #00d7ff\">None</span>, <span style=\"color: #00af00; text-decoration-color: #00af00\">8</span>, <span style=\"color: #00af00; text-decoration-color: #00af00\">8</span>, <span style=\"color: #00af00; text-decoration-color: #00af00\">128</span>)      │             <span style=\"color: #00af00; text-decoration-color: #00af00\">0</span> │\n",
       "├─────────────────────────────────┼────────────────────────┼───────────────┤\n",
       "│ block3_conv1 (<span style=\"color: #0087ff; text-decoration-color: #0087ff\">Conv2D</span>)           │ (<span style=\"color: #00d7ff; text-decoration-color: #00d7ff\">None</span>, <span style=\"color: #00af00; text-decoration-color: #00af00\">8</span>, <span style=\"color: #00af00; text-decoration-color: #00af00\">8</span>, <span style=\"color: #00af00; text-decoration-color: #00af00\">256</span>)      │       <span style=\"color: #00af00; text-decoration-color: #00af00\">295,168</span> │\n",
       "├─────────────────────────────────┼────────────────────────┼───────────────┤\n",
       "│ block3_conv2 (<span style=\"color: #0087ff; text-decoration-color: #0087ff\">Conv2D</span>)           │ (<span style=\"color: #00d7ff; text-decoration-color: #00d7ff\">None</span>, <span style=\"color: #00af00; text-decoration-color: #00af00\">8</span>, <span style=\"color: #00af00; text-decoration-color: #00af00\">8</span>, <span style=\"color: #00af00; text-decoration-color: #00af00\">256</span>)      │       <span style=\"color: #00af00; text-decoration-color: #00af00\">590,080</span> │\n",
       "├─────────────────────────────────┼────────────────────────┼───────────────┤\n",
       "│ block3_conv3 (<span style=\"color: #0087ff; text-decoration-color: #0087ff\">Conv2D</span>)           │ (<span style=\"color: #00d7ff; text-decoration-color: #00d7ff\">None</span>, <span style=\"color: #00af00; text-decoration-color: #00af00\">8</span>, <span style=\"color: #00af00; text-decoration-color: #00af00\">8</span>, <span style=\"color: #00af00; text-decoration-color: #00af00\">256</span>)      │       <span style=\"color: #00af00; text-decoration-color: #00af00\">590,080</span> │\n",
       "├─────────────────────────────────┼────────────────────────┼───────────────┤\n",
       "│ block3_pool (<span style=\"color: #0087ff; text-decoration-color: #0087ff\">MaxPooling2D</span>)      │ (<span style=\"color: #00d7ff; text-decoration-color: #00d7ff\">None</span>, <span style=\"color: #00af00; text-decoration-color: #00af00\">4</span>, <span style=\"color: #00af00; text-decoration-color: #00af00\">4</span>, <span style=\"color: #00af00; text-decoration-color: #00af00\">256</span>)      │             <span style=\"color: #00af00; text-decoration-color: #00af00\">0</span> │\n",
       "├─────────────────────────────────┼────────────────────────┼───────────────┤\n",
       "│ block4_conv1 (<span style=\"color: #0087ff; text-decoration-color: #0087ff\">Conv2D</span>)           │ (<span style=\"color: #00d7ff; text-decoration-color: #00d7ff\">None</span>, <span style=\"color: #00af00; text-decoration-color: #00af00\">4</span>, <span style=\"color: #00af00; text-decoration-color: #00af00\">4</span>, <span style=\"color: #00af00; text-decoration-color: #00af00\">512</span>)      │     <span style=\"color: #00af00; text-decoration-color: #00af00\">1,180,160</span> │\n",
       "├─────────────────────────────────┼────────────────────────┼───────────────┤\n",
       "│ block4_conv2 (<span style=\"color: #0087ff; text-decoration-color: #0087ff\">Conv2D</span>)           │ (<span style=\"color: #00d7ff; text-decoration-color: #00d7ff\">None</span>, <span style=\"color: #00af00; text-decoration-color: #00af00\">4</span>, <span style=\"color: #00af00; text-decoration-color: #00af00\">4</span>, <span style=\"color: #00af00; text-decoration-color: #00af00\">512</span>)      │     <span style=\"color: #00af00; text-decoration-color: #00af00\">2,359,808</span> │\n",
       "├─────────────────────────────────┼────────────────────────┼───────────────┤\n",
       "│ block4_conv3 (<span style=\"color: #0087ff; text-decoration-color: #0087ff\">Conv2D</span>)           │ (<span style=\"color: #00d7ff; text-decoration-color: #00d7ff\">None</span>, <span style=\"color: #00af00; text-decoration-color: #00af00\">4</span>, <span style=\"color: #00af00; text-decoration-color: #00af00\">4</span>, <span style=\"color: #00af00; text-decoration-color: #00af00\">512</span>)      │     <span style=\"color: #00af00; text-decoration-color: #00af00\">2,359,808</span> │\n",
       "├─────────────────────────────────┼────────────────────────┼───────────────┤\n",
       "│ block4_pool (<span style=\"color: #0087ff; text-decoration-color: #0087ff\">MaxPooling2D</span>)      │ (<span style=\"color: #00d7ff; text-decoration-color: #00d7ff\">None</span>, <span style=\"color: #00af00; text-decoration-color: #00af00\">2</span>, <span style=\"color: #00af00; text-decoration-color: #00af00\">2</span>, <span style=\"color: #00af00; text-decoration-color: #00af00\">512</span>)      │             <span style=\"color: #00af00; text-decoration-color: #00af00\">0</span> │\n",
       "├─────────────────────────────────┼────────────────────────┼───────────────┤\n",
       "│ block5_conv1 (<span style=\"color: #0087ff; text-decoration-color: #0087ff\">Conv2D</span>)           │ (<span style=\"color: #00d7ff; text-decoration-color: #00d7ff\">None</span>, <span style=\"color: #00af00; text-decoration-color: #00af00\">2</span>, <span style=\"color: #00af00; text-decoration-color: #00af00\">2</span>, <span style=\"color: #00af00; text-decoration-color: #00af00\">512</span>)      │     <span style=\"color: #00af00; text-decoration-color: #00af00\">2,359,808</span> │\n",
       "├─────────────────────────────────┼────────────────────────┼───────────────┤\n",
       "│ block5_conv2 (<span style=\"color: #0087ff; text-decoration-color: #0087ff\">Conv2D</span>)           │ (<span style=\"color: #00d7ff; text-decoration-color: #00d7ff\">None</span>, <span style=\"color: #00af00; text-decoration-color: #00af00\">2</span>, <span style=\"color: #00af00; text-decoration-color: #00af00\">2</span>, <span style=\"color: #00af00; text-decoration-color: #00af00\">512</span>)      │     <span style=\"color: #00af00; text-decoration-color: #00af00\">2,359,808</span> │\n",
       "├─────────────────────────────────┼────────────────────────┼───────────────┤\n",
       "│ block5_conv3 (<span style=\"color: #0087ff; text-decoration-color: #0087ff\">Conv2D</span>)           │ (<span style=\"color: #00d7ff; text-decoration-color: #00d7ff\">None</span>, <span style=\"color: #00af00; text-decoration-color: #00af00\">2</span>, <span style=\"color: #00af00; text-decoration-color: #00af00\">2</span>, <span style=\"color: #00af00; text-decoration-color: #00af00\">512</span>)      │     <span style=\"color: #00af00; text-decoration-color: #00af00\">2,359,808</span> │\n",
       "├─────────────────────────────────┼────────────────────────┼───────────────┤\n",
       "│ block5_pool (<span style=\"color: #0087ff; text-decoration-color: #0087ff\">MaxPooling2D</span>)      │ (<span style=\"color: #00d7ff; text-decoration-color: #00d7ff\">None</span>, <span style=\"color: #00af00; text-decoration-color: #00af00\">1</span>, <span style=\"color: #00af00; text-decoration-color: #00af00\">1</span>, <span style=\"color: #00af00; text-decoration-color: #00af00\">512</span>)      │             <span style=\"color: #00af00; text-decoration-color: #00af00\">0</span> │\n",
       "├─────────────────────────────────┼────────────────────────┼───────────────┤\n",
       "│ flatten_1 (<span style=\"color: #0087ff; text-decoration-color: #0087ff\">Flatten</span>)             │ (<span style=\"color: #00d7ff; text-decoration-color: #00d7ff\">None</span>, <span style=\"color: #00af00; text-decoration-color: #00af00\">512</span>)            │             <span style=\"color: #00af00; text-decoration-color: #00af00\">0</span> │\n",
       "├─────────────────────────────────┼────────────────────────┼───────────────┤\n",
       "│ dense_2 (<span style=\"color: #0087ff; text-decoration-color: #0087ff\">Dense</span>)                 │ (<span style=\"color: #00d7ff; text-decoration-color: #00d7ff\">None</span>, <span style=\"color: #00af00; text-decoration-color: #00af00\">256</span>)            │       <span style=\"color: #00af00; text-decoration-color: #00af00\">131,328</span> │\n",
       "├─────────────────────────────────┼────────────────────────┼───────────────┤\n",
       "│ dropout_1 (<span style=\"color: #0087ff; text-decoration-color: #0087ff\">Dropout</span>)             │ (<span style=\"color: #00d7ff; text-decoration-color: #00d7ff\">None</span>, <span style=\"color: #00af00; text-decoration-color: #00af00\">256</span>)            │             <span style=\"color: #00af00; text-decoration-color: #00af00\">0</span> │\n",
       "├─────────────────────────────────┼────────────────────────┼───────────────┤\n",
       "│ dense_3 (<span style=\"color: #0087ff; text-decoration-color: #0087ff\">Dense</span>)                 │ (<span style=\"color: #00d7ff; text-decoration-color: #00d7ff\">None</span>, <span style=\"color: #00af00; text-decoration-color: #00af00\">10</span>)             │         <span style=\"color: #00af00; text-decoration-color: #00af00\">2,570</span> │\n",
       "└─────────────────────────────────┴────────────────────────┴───────────────┘\n",
       "</pre>\n"
      ],
      "text/plain": [
       "┏━━━━━━━━━━━━━━━━━━━━━━━━━━━━━━━━━┳━━━━━━━━━━━━━━━━━━━━━━━━┳━━━━━━━━━━━━━━━┓\n",
       "┃\u001b[1m \u001b[0m\u001b[1mLayer (type)                   \u001b[0m\u001b[1m \u001b[0m┃\u001b[1m \u001b[0m\u001b[1mOutput Shape          \u001b[0m\u001b[1m \u001b[0m┃\u001b[1m \u001b[0m\u001b[1m      Param #\u001b[0m\u001b[1m \u001b[0m┃\n",
       "┡━━━━━━━━━━━━━━━━━━━━━━━━━━━━━━━━━╇━━━━━━━━━━━━━━━━━━━━━━━━╇━━━━━━━━━━━━━━━┩\n",
       "│ input_layer_1 (\u001b[38;5;33mInputLayer\u001b[0m)      │ (\u001b[38;5;45mNone\u001b[0m, \u001b[38;5;34m32\u001b[0m, \u001b[38;5;34m32\u001b[0m, \u001b[38;5;34m3\u001b[0m)      │             \u001b[38;5;34m0\u001b[0m │\n",
       "├─────────────────────────────────┼────────────────────────┼───────────────┤\n",
       "│ block1_conv1 (\u001b[38;5;33mConv2D\u001b[0m)           │ (\u001b[38;5;45mNone\u001b[0m, \u001b[38;5;34m32\u001b[0m, \u001b[38;5;34m32\u001b[0m, \u001b[38;5;34m64\u001b[0m)     │         \u001b[38;5;34m1,792\u001b[0m │\n",
       "├─────────────────────────────────┼────────────────────────┼───────────────┤\n",
       "│ block1_conv2 (\u001b[38;5;33mConv2D\u001b[0m)           │ (\u001b[38;5;45mNone\u001b[0m, \u001b[38;5;34m32\u001b[0m, \u001b[38;5;34m32\u001b[0m, \u001b[38;5;34m64\u001b[0m)     │        \u001b[38;5;34m36,928\u001b[0m │\n",
       "├─────────────────────────────────┼────────────────────────┼───────────────┤\n",
       "│ block1_pool (\u001b[38;5;33mMaxPooling2D\u001b[0m)      │ (\u001b[38;5;45mNone\u001b[0m, \u001b[38;5;34m16\u001b[0m, \u001b[38;5;34m16\u001b[0m, \u001b[38;5;34m64\u001b[0m)     │             \u001b[38;5;34m0\u001b[0m │\n",
       "├─────────────────────────────────┼────────────────────────┼───────────────┤\n",
       "│ block2_conv1 (\u001b[38;5;33mConv2D\u001b[0m)           │ (\u001b[38;5;45mNone\u001b[0m, \u001b[38;5;34m16\u001b[0m, \u001b[38;5;34m16\u001b[0m, \u001b[38;5;34m128\u001b[0m)    │        \u001b[38;5;34m73,856\u001b[0m │\n",
       "├─────────────────────────────────┼────────────────────────┼───────────────┤\n",
       "│ block2_conv2 (\u001b[38;5;33mConv2D\u001b[0m)           │ (\u001b[38;5;45mNone\u001b[0m, \u001b[38;5;34m16\u001b[0m, \u001b[38;5;34m16\u001b[0m, \u001b[38;5;34m128\u001b[0m)    │       \u001b[38;5;34m147,584\u001b[0m │\n",
       "├─────────────────────────────────┼────────────────────────┼───────────────┤\n",
       "│ block2_pool (\u001b[38;5;33mMaxPooling2D\u001b[0m)      │ (\u001b[38;5;45mNone\u001b[0m, \u001b[38;5;34m8\u001b[0m, \u001b[38;5;34m8\u001b[0m, \u001b[38;5;34m128\u001b[0m)      │             \u001b[38;5;34m0\u001b[0m │\n",
       "├─────────────────────────────────┼────────────────────────┼───────────────┤\n",
       "│ block3_conv1 (\u001b[38;5;33mConv2D\u001b[0m)           │ (\u001b[38;5;45mNone\u001b[0m, \u001b[38;5;34m8\u001b[0m, \u001b[38;5;34m8\u001b[0m, \u001b[38;5;34m256\u001b[0m)      │       \u001b[38;5;34m295,168\u001b[0m │\n",
       "├─────────────────────────────────┼────────────────────────┼───────────────┤\n",
       "│ block3_conv2 (\u001b[38;5;33mConv2D\u001b[0m)           │ (\u001b[38;5;45mNone\u001b[0m, \u001b[38;5;34m8\u001b[0m, \u001b[38;5;34m8\u001b[0m, \u001b[38;5;34m256\u001b[0m)      │       \u001b[38;5;34m590,080\u001b[0m │\n",
       "├─────────────────────────────────┼────────────────────────┼───────────────┤\n",
       "│ block3_conv3 (\u001b[38;5;33mConv2D\u001b[0m)           │ (\u001b[38;5;45mNone\u001b[0m, \u001b[38;5;34m8\u001b[0m, \u001b[38;5;34m8\u001b[0m, \u001b[38;5;34m256\u001b[0m)      │       \u001b[38;5;34m590,080\u001b[0m │\n",
       "├─────────────────────────────────┼────────────────────────┼───────────────┤\n",
       "│ block3_pool (\u001b[38;5;33mMaxPooling2D\u001b[0m)      │ (\u001b[38;5;45mNone\u001b[0m, \u001b[38;5;34m4\u001b[0m, \u001b[38;5;34m4\u001b[0m, \u001b[38;5;34m256\u001b[0m)      │             \u001b[38;5;34m0\u001b[0m │\n",
       "├─────────────────────────────────┼────────────────────────┼───────────────┤\n",
       "│ block4_conv1 (\u001b[38;5;33mConv2D\u001b[0m)           │ (\u001b[38;5;45mNone\u001b[0m, \u001b[38;5;34m4\u001b[0m, \u001b[38;5;34m4\u001b[0m, \u001b[38;5;34m512\u001b[0m)      │     \u001b[38;5;34m1,180,160\u001b[0m │\n",
       "├─────────────────────────────────┼────────────────────────┼───────────────┤\n",
       "│ block4_conv2 (\u001b[38;5;33mConv2D\u001b[0m)           │ (\u001b[38;5;45mNone\u001b[0m, \u001b[38;5;34m4\u001b[0m, \u001b[38;5;34m4\u001b[0m, \u001b[38;5;34m512\u001b[0m)      │     \u001b[38;5;34m2,359,808\u001b[0m │\n",
       "├─────────────────────────────────┼────────────────────────┼───────────────┤\n",
       "│ block4_conv3 (\u001b[38;5;33mConv2D\u001b[0m)           │ (\u001b[38;5;45mNone\u001b[0m, \u001b[38;5;34m4\u001b[0m, \u001b[38;5;34m4\u001b[0m, \u001b[38;5;34m512\u001b[0m)      │     \u001b[38;5;34m2,359,808\u001b[0m │\n",
       "├─────────────────────────────────┼────────────────────────┼───────────────┤\n",
       "│ block4_pool (\u001b[38;5;33mMaxPooling2D\u001b[0m)      │ (\u001b[38;5;45mNone\u001b[0m, \u001b[38;5;34m2\u001b[0m, \u001b[38;5;34m2\u001b[0m, \u001b[38;5;34m512\u001b[0m)      │             \u001b[38;5;34m0\u001b[0m │\n",
       "├─────────────────────────────────┼────────────────────────┼───────────────┤\n",
       "│ block5_conv1 (\u001b[38;5;33mConv2D\u001b[0m)           │ (\u001b[38;5;45mNone\u001b[0m, \u001b[38;5;34m2\u001b[0m, \u001b[38;5;34m2\u001b[0m, \u001b[38;5;34m512\u001b[0m)      │     \u001b[38;5;34m2,359,808\u001b[0m │\n",
       "├─────────────────────────────────┼────────────────────────┼───────────────┤\n",
       "│ block5_conv2 (\u001b[38;5;33mConv2D\u001b[0m)           │ (\u001b[38;5;45mNone\u001b[0m, \u001b[38;5;34m2\u001b[0m, \u001b[38;5;34m2\u001b[0m, \u001b[38;5;34m512\u001b[0m)      │     \u001b[38;5;34m2,359,808\u001b[0m │\n",
       "├─────────────────────────────────┼────────────────────────┼───────────────┤\n",
       "│ block5_conv3 (\u001b[38;5;33mConv2D\u001b[0m)           │ (\u001b[38;5;45mNone\u001b[0m, \u001b[38;5;34m2\u001b[0m, \u001b[38;5;34m2\u001b[0m, \u001b[38;5;34m512\u001b[0m)      │     \u001b[38;5;34m2,359,808\u001b[0m │\n",
       "├─────────────────────────────────┼────────────────────────┼───────────────┤\n",
       "│ block5_pool (\u001b[38;5;33mMaxPooling2D\u001b[0m)      │ (\u001b[38;5;45mNone\u001b[0m, \u001b[38;5;34m1\u001b[0m, \u001b[38;5;34m1\u001b[0m, \u001b[38;5;34m512\u001b[0m)      │             \u001b[38;5;34m0\u001b[0m │\n",
       "├─────────────────────────────────┼────────────────────────┼───────────────┤\n",
       "│ flatten_1 (\u001b[38;5;33mFlatten\u001b[0m)             │ (\u001b[38;5;45mNone\u001b[0m, \u001b[38;5;34m512\u001b[0m)            │             \u001b[38;5;34m0\u001b[0m │\n",
       "├─────────────────────────────────┼────────────────────────┼───────────────┤\n",
       "│ dense_2 (\u001b[38;5;33mDense\u001b[0m)                 │ (\u001b[38;5;45mNone\u001b[0m, \u001b[38;5;34m256\u001b[0m)            │       \u001b[38;5;34m131,328\u001b[0m │\n",
       "├─────────────────────────────────┼────────────────────────┼───────────────┤\n",
       "│ dropout_1 (\u001b[38;5;33mDropout\u001b[0m)             │ (\u001b[38;5;45mNone\u001b[0m, \u001b[38;5;34m256\u001b[0m)            │             \u001b[38;5;34m0\u001b[0m │\n",
       "├─────────────────────────────────┼────────────────────────┼───────────────┤\n",
       "│ dense_3 (\u001b[38;5;33mDense\u001b[0m)                 │ (\u001b[38;5;45mNone\u001b[0m, \u001b[38;5;34m10\u001b[0m)             │         \u001b[38;5;34m2,570\u001b[0m │\n",
       "└─────────────────────────────────┴────────────────────────┴───────────────┘\n"
      ]
     },
     "metadata": {},
     "output_type": "display_data"
    },
    {
     "data": {
      "text/html": [
       "<pre style=\"white-space:pre;overflow-x:auto;line-height:normal;font-family:Menlo,'DejaVu Sans Mono',consolas,'Courier New',monospace\"><span style=\"font-weight: bold\"> Total params: </span><span style=\"color: #00af00; text-decoration-color: #00af00\">14,848,586</span> (56.64 MB)\n",
       "</pre>\n"
      ],
      "text/plain": [
       "\u001b[1m Total params: \u001b[0m\u001b[38;5;34m14,848,586\u001b[0m (56.64 MB)\n"
      ]
     },
     "metadata": {},
     "output_type": "display_data"
    },
    {
     "data": {
      "text/html": [
       "<pre style=\"white-space:pre;overflow-x:auto;line-height:normal;font-family:Menlo,'DejaVu Sans Mono',consolas,'Courier New',monospace\"><span style=\"font-weight: bold\"> Trainable params: </span><span style=\"color: #00af00; text-decoration-color: #00af00\">133,898</span> (523.04 KB)\n",
       "</pre>\n"
      ],
      "text/plain": [
       "\u001b[1m Trainable params: \u001b[0m\u001b[38;5;34m133,898\u001b[0m (523.04 KB)\n"
      ]
     },
     "metadata": {},
     "output_type": "display_data"
    },
    {
     "data": {
      "text/html": [
       "<pre style=\"white-space:pre;overflow-x:auto;line-height:normal;font-family:Menlo,'DejaVu Sans Mono',consolas,'Courier New',monospace\"><span style=\"font-weight: bold\"> Non-trainable params: </span><span style=\"color: #00af00; text-decoration-color: #00af00\">14,714,688</span> (56.13 MB)\n",
       "</pre>\n"
      ],
      "text/plain": [
       "\u001b[1m Non-trainable params: \u001b[0m\u001b[38;5;34m14,714,688\u001b[0m (56.13 MB)\n"
      ]
     },
     "metadata": {},
     "output_type": "display_data"
    }
   ],
   "source": [
    "from keras.applications import VGG16\n",
    "from keras.models import Model\n",
    "from keras.layers import Input, Dense, Flatten, Dropout\n",
    "from keras.optimizers import Adam\n",
    "\n",
    "vgg16 = VGG16(weights='imagenet', include_top=False, input_shape=(32, 32, 3))\n",
    "\n",
    "for layer in vgg16.layers:\n",
    "    layer.trainable = False\n",
    "\n",
    "x = vgg16.output\n",
    "x = Flatten()(x)\n",
    "x = Dense(256, activation='relu')(x)\n",
    "x = Dropout(0.5)(x)\n",
    "x = Dense(num_classes, activation='softmax')(x)\n",
    "\n",
    "model = Model(inputs=vgg16.input, outputs=x)\n",
    "\n",
    "model.compile(optimizer=Adam(learning_rate=0.0001),\n",
    "              loss='categorical_crossentropy',\n",
    "              metrics=['accuracy'])\n",
    "\n",
    "model.summary()"
   ]
  },
  {
   "cell_type": "code",
   "execution_count": 7,
   "id": "ca730a92-2a0a-4ef5-9a86-0444deee0c7a",
   "metadata": {},
   "outputs": [
    {
     "name": "stdout",
     "output_type": "stream",
     "text": [
      "Epoch 1/20\n",
      "\u001b[1m782/782\u001b[0m \u001b[32m━━━━━━━━━━━━━━━━━━━━\u001b[0m\u001b[37m\u001b[0m \u001b[1m168s\u001b[0m 215ms/step - accuracy: 0.2236 - loss: 2.1350 - val_accuracy: 0.4627 - val_loss: 1.6018\n",
      "Epoch 2/20\n",
      "\u001b[1m782/782\u001b[0m \u001b[32m━━━━━━━━━━━━━━━━━━━━\u001b[0m\u001b[37m\u001b[0m \u001b[1m176s\u001b[0m 225ms/step - accuracy: 0.4359 - loss: 1.6234 - val_accuracy: 0.5017 - val_loss: 1.4550\n",
      "Epoch 3/20\n",
      "\u001b[1m782/782\u001b[0m \u001b[32m━━━━━━━━━━━━━━━━━━━━\u001b[0m\u001b[37m\u001b[0m \u001b[1m178s\u001b[0m 227ms/step - accuracy: 0.4748 - loss: 1.5119 - val_accuracy: 0.5211 - val_loss: 1.3896\n",
      "Epoch 4/20\n",
      "\u001b[1m782/782\u001b[0m \u001b[32m━━━━━━━━━━━━━━━━━━━━\u001b[0m\u001b[37m\u001b[0m \u001b[1m169s\u001b[0m 216ms/step - accuracy: 0.4998 - loss: 1.4368 - val_accuracy: 0.5337 - val_loss: 1.3452\n",
      "Epoch 5/20\n",
      "\u001b[1m782/782\u001b[0m \u001b[32m━━━━━━━━━━━━━━━━━━━━\u001b[0m\u001b[37m\u001b[0m \u001b[1m170s\u001b[0m 217ms/step - accuracy: 0.5186 - loss: 1.3871 - val_accuracy: 0.5438 - val_loss: 1.3148\n",
      "Epoch 6/20\n",
      "\u001b[1m782/782\u001b[0m \u001b[32m━━━━━━━━━━━━━━━━━━━━\u001b[0m\u001b[37m\u001b[0m \u001b[1m170s\u001b[0m 218ms/step - accuracy: 0.5321 - loss: 1.3530 - val_accuracy: 0.5511 - val_loss: 1.2902\n",
      "Epoch 7/20\n",
      "\u001b[1m782/782\u001b[0m \u001b[32m━━━━━━━━━━━━━━━━━━━━\u001b[0m\u001b[37m\u001b[0m \u001b[1m172s\u001b[0m 219ms/step - accuracy: 0.5402 - loss: 1.3198 - val_accuracy: 0.5570 - val_loss: 1.2706\n",
      "Epoch 8/20\n",
      "\u001b[1m782/782\u001b[0m \u001b[32m━━━━━━━━━━━━━━━━━━━━\u001b[0m\u001b[37m\u001b[0m \u001b[1m175s\u001b[0m 224ms/step - accuracy: 0.5513 - loss: 1.2965 - val_accuracy: 0.5601 - val_loss: 1.2567\n",
      "Epoch 9/20\n",
      "\u001b[1m782/782\u001b[0m \u001b[32m━━━━━━━━━━━━━━━━━━━━\u001b[0m\u001b[37m\u001b[0m \u001b[1m171s\u001b[0m 218ms/step - accuracy: 0.5614 - loss: 1.2671 - val_accuracy: 0.5684 - val_loss: 1.2412\n",
      "Epoch 10/20\n",
      "\u001b[1m782/782\u001b[0m \u001b[32m━━━━━━━━━━━━━━━━━━━━\u001b[0m\u001b[37m\u001b[0m \u001b[1m183s\u001b[0m 234ms/step - accuracy: 0.5622 - loss: 1.2652 - val_accuracy: 0.5719 - val_loss: 1.2302\n",
      "Epoch 11/20\n",
      "\u001b[1m782/782\u001b[0m \u001b[32m━━━━━━━━━━━━━━━━━━━━\u001b[0m\u001b[37m\u001b[0m \u001b[1m189s\u001b[0m 241ms/step - accuracy: 0.5684 - loss: 1.2451 - val_accuracy: 0.5721 - val_loss: 1.2215\n",
      "Epoch 12/20\n",
      "\u001b[1m782/782\u001b[0m \u001b[32m━━━━━━━━━━━━━━━━━━━━\u001b[0m\u001b[37m\u001b[0m \u001b[1m189s\u001b[0m 241ms/step - accuracy: 0.5737 - loss: 1.2301 - val_accuracy: 0.5756 - val_loss: 1.2109\n",
      "Epoch 13/20\n",
      "\u001b[1m782/782\u001b[0m \u001b[32m━━━━━━━━━━━━━━━━━━━━\u001b[0m\u001b[37m\u001b[0m \u001b[1m184s\u001b[0m 235ms/step - accuracy: 0.5763 - loss: 1.2226 - val_accuracy: 0.5796 - val_loss: 1.2018\n",
      "Epoch 14/20\n",
      "\u001b[1m782/782\u001b[0m \u001b[32m━━━━━━━━━━━━━━━━━━━━\u001b[0m\u001b[37m\u001b[0m \u001b[1m187s\u001b[0m 239ms/step - accuracy: 0.5763 - loss: 1.2177 - val_accuracy: 0.5805 - val_loss: 1.1958\n",
      "Epoch 15/20\n",
      "\u001b[1m782/782\u001b[0m \u001b[32m━━━━━━━━━━━━━━━━━━━━\u001b[0m\u001b[37m\u001b[0m \u001b[1m187s\u001b[0m 239ms/step - accuracy: 0.5805 - loss: 1.2097 - val_accuracy: 0.5822 - val_loss: 1.1879\n",
      "Epoch 16/20\n",
      "\u001b[1m782/782\u001b[0m \u001b[32m━━━━━━━━━━━━━━━━━━━━\u001b[0m\u001b[37m\u001b[0m \u001b[1m191s\u001b[0m 244ms/step - accuracy: 0.5863 - loss: 1.1948 - val_accuracy: 0.5876 - val_loss: 1.1806\n",
      "Epoch 17/20\n",
      "\u001b[1m782/782\u001b[0m \u001b[32m━━━━━━━━━━━━━━━━━━━━\u001b[0m\u001b[37m\u001b[0m \u001b[1m193s\u001b[0m 247ms/step - accuracy: 0.5895 - loss: 1.1828 - val_accuracy: 0.5868 - val_loss: 1.1774\n",
      "Epoch 18/20\n",
      "\u001b[1m782/782\u001b[0m \u001b[32m━━━━━━━━━━━━━━━━━━━━\u001b[0m\u001b[37m\u001b[0m \u001b[1m189s\u001b[0m 242ms/step - accuracy: 0.5918 - loss: 1.1856 - val_accuracy: 0.5915 - val_loss: 1.1705\n",
      "Epoch 19/20\n",
      "\u001b[1m782/782\u001b[0m \u001b[32m━━━━━━━━━━━━━━━━━━━━\u001b[0m\u001b[37m\u001b[0m \u001b[1m187s\u001b[0m 240ms/step - accuracy: 0.5932 - loss: 1.1673 - val_accuracy: 0.5895 - val_loss: 1.1690\n",
      "Epoch 20/20\n",
      "\u001b[1m782/782\u001b[0m \u001b[32m━━━━━━━━━━━━━━━━━━━━\u001b[0m\u001b[37m\u001b[0m \u001b[1m192s\u001b[0m 246ms/step - accuracy: 0.5945 - loss: 1.1689 - val_accuracy: 0.5899 - val_loss: 1.1631\n"
     ]
    },
    {
     "data": {
      "image/png": "[encoded data removed]",
      "text/plain": [
       "<Figure size 640x480 with 1 Axes>"
      ]
     },
     "metadata": {},
     "output_type": "display_data"
    },
    {
     "name": "stdout",
     "output_type": "stream",
     "text": [
      "313/313 - 35s - 111ms/step - accuracy: 0.5899 - loss: 1.1631\n",
      "Test accuracy: 0.589900016784668\n"
     ]
    }
   ],
   "source": [
    "# Train the model\n",
    "history = model.fit(\n",
    "    train_images, train_labels,\n",
    "    validation_data=(test_images, test_labels),\n",
    "    epochs=20,  \n",
    "    batch_size=64,  \n",
    "    verbose=1\n",
    ")\n",
    "\n",
    "# Plot training and validation accuracy\n",
    "plt.plot(history.history['accuracy'], label='accuracy')\n",
    "plt.plot(history.history['val_accuracy'], label='val_accuracy')\n",
    "plt.xlabel('Epoch')\n",
    "plt.ylabel('Accuracy')\n",
    "plt.legend(loc='lower right')\n",
    "plt.title('Training and Validation Accuracy')\n",
    "plt.show()\n",
    "\n",
    "# Evaluate the model\n",
    "test_loss, test_acc = model.evaluate(test_images, test_labels, verbose=2)\n",
    "print(f\"Test accuracy: {test_acc}\")"
   ]
  },
  {
   "cell_type": "markdown",
   "id": "629c4be3-59b7-44a7-9552-23f9ed2f6268",
   "metadata": {},
   "source": [
    "### 14.1) - 1"
   ]
  },
  {
   "cell_type": "code",
   "execution_count": 2,
   "id": "167b4415-e49c-4a9d-b038-bb8a4056c619",
   "metadata": {},
   "outputs": [
    {
     "name": "stdout",
     "output_type": "stream",
     "text": [
      "Original train_labels shape: (50000, 1)\n",
      "Original test_labels shape: (10000, 1)\n",
      "Shape of X_train: (50000, 32, 32, 3)\n",
      "Shape of Y_train: (50000, 10)\n",
      "Shape of X_test: (10000, 32, 32, 3)\n",
      "Shape of Y_test: (10000, 10)\n"
     ]
    }
   ],
   "source": [
    "from keras.datasets import cifar10\n",
    "from keras.utils import to_categorical\n",
    "\n",
    "# Load the CIFAR-10 dataset\n",
    "(train_images, train_labels), (test_images, test_labels) = cifar10.load_data()\n",
    "\n",
    "print(\"Original train_labels shape:\", train_labels.shape)  \n",
    "print(\"Original test_labels shape:\", test_labels.shape)    \n",
    "\n",
    "train_labels = train_labels.reshape(-1)\n",
    "test_labels = test_labels.reshape(-1)\n",
    "\n",
    "train_labels = to_categorical(train_labels, num_classes=10)\n",
    "test_labels = to_categorical(test_labels, num_classes=10)\n",
    "\n",
    "train_images = train_images / 255.0\n",
    "test_images = test_images / 255.0\n",
    "\n",
    "X_train = train_images\n",
    "X_test = test_images\n",
    "Y_train = train_labels\n",
    "Y_test = test_labels\n",
    "\n",
    "print(\"Shape of X_train:\", X_train.shape)  \n",
    "print(\"Shape of Y_train:\", Y_train.shape)  \n",
    "print(\"Shape of X_test:\", X_test.shape)    \n",
    "print(\"Shape of Y_test:\", Y_test.shape)    "
   ]
  },
  {
   "cell_type": "markdown",
   "id": "4ac8cd2d-8c22-4412-959f-a3dc0b762bdd",
   "metadata": {},
   "source": [
    "### 14.1) - 2"
   ]
  },
  {
   "cell_type": "code",
   "execution_count": 9,
   "id": "b914bff6-7463-4c30-9cc5-9fba032aaeb9",
   "metadata": {},
   "outputs": [
    {
     "name": "stdout",
     "output_type": "stream",
     "text": [
      "Shape of train_images: (50000, 32, 32, 3)\n",
      "Shape of train_labels: (50000, 10, 10)\n",
      "Shape of test_images: (10000, 32, 32, 3)\n",
      "Shape of test_labels: (10000, 10, 10)\n"
     ]
    },
    {
     "data": {
      "image/png": "[encoded data removed]",
      "text/plain": [
       "<Figure size 640x480 with 1 Axes>"
      ]
     },
     "metadata": {},
     "output_type": "display_data"
    }
   ],
   "source": [
    "print(\"Shape of train_images:\", train_images.shape)\n",
    "print(\"Shape of train_labels:\", train_labels.shape)\n",
    "print(\"Shape of test_images:\", test_images.shape)\n",
    "print(\"Shape of test_labels:\", test_labels.shape)\n",
    "\n",
    "import matplotlib.pyplot as plt\n",
    "\n",
    "sample_image = train_images[0]\n",
    "sample_label = np.argmax(train_labels[0])  \n",
    "\n",
    "plt.imshow(sample_image)\n",
    "plt.title(f\"Sample Image - Class: {class_names[sample_label]}\")\n",
    "plt.axis('off')\n",
    "plt.show()"
   ]
  },
  {
   "cell_type": "code",
   "execution_count": 11,
   "id": "0e29d622-aab3-479f-ad2c-89a6a55e506e",
   "metadata": {},
   "outputs": [],
   "source": [
    "from keras.applications import VGG16\n",
    "from keras.models import Sequential\n",
    "from keras.layers import Flatten, Dense, Dropout\n",
    "\n",
    "def create_model(input_shape, fine_tune=0):\n",
    "    conv_base = VGG16(include_top=False,\n",
    "                      weights='imagenet',\n",
    "                      input_shape=input_shape)\n",
    "    \n",
    "    if fine_tune > 0:\n",
    "        for layer in conv_base.layers[:-fine_tune]:\n",
    "            layer.trainable = False\n",
    "    else:\n",
    "        for layer in conv_base.layers:\n",
    "            layer.trainable = False\n",
    "    \n",
    "    model = Sequential([\n",
    "        conv_base,\n",
    "        Flatten(),  \n",
    "        Dense(256, activation='relu'), \n",
    "        Dropout(0.5),  \n",
    "        Dense(10, activation='softmax')  \n",
    "    ])\n",
    "    \n",
    "    return model"
   ]
  },
  {
   "cell_type": "code",
   "execution_count": 13,
   "id": "2013bb8e-ca40-4382-99df-4b0b48bdcaae",
   "metadata": {},
   "outputs": [
    {
     "data": {
      "text/html": [
       "<pre style=\"white-space:pre;overflow-x:auto;line-height:normal;font-family:Menlo,'DejaVu Sans Mono',consolas,'Courier New',monospace\"><span style=\"font-weight: bold\">Model: \"sequential_1\"</span>\n",
       "</pre>\n"
      ],
      "text/plain": [
       "\u001b[1mModel: \"sequential_1\"\u001b[0m\n"
      ]
     },
     "metadata": {},
     "output_type": "display_data"
    },
    {
     "data": {
      "text/html": [
       "<pre style=\"white-space:pre;overflow-x:auto;line-height:normal;font-family:Menlo,'DejaVu Sans Mono',consolas,'Courier New',monospace\">┏━━━━━━━━━━━━━━━━━━━━━━━━━━━━━━━━━┳━━━━━━━━━━━━━━━━━━━━━━━━┳━━━━━━━━━━━━━━━┓\n",
       "┃<span style=\"font-weight: bold\"> Layer (type)                    </span>┃<span style=\"font-weight: bold\"> Output Shape           </span>┃<span style=\"font-weight: bold\">       Param # </span>┃\n",
       "┡━━━━━━━━━━━━━━━━━━━━━━━━━━━━━━━━━╇━━━━━━━━━━━━━━━━━━━━━━━━╇━━━━━━━━━━━━━━━┩\n",
       "│ vgg16 (<span style=\"color: #0087ff; text-decoration-color: #0087ff\">Functional</span>)              │ (<span style=\"color: #00d7ff; text-decoration-color: #00d7ff\">None</span>, <span style=\"color: #00af00; text-decoration-color: #00af00\">1</span>, <span style=\"color: #00af00; text-decoration-color: #00af00\">1</span>, <span style=\"color: #00af00; text-decoration-color: #00af00\">512</span>)      │    <span style=\"color: #00af00; text-decoration-color: #00af00\">14,714,688</span> │\n",
       "├─────────────────────────────────┼────────────────────────┼───────────────┤\n",
       "│ flatten_3 (<span style=\"color: #0087ff; text-decoration-color: #0087ff\">Flatten</span>)             │ (<span style=\"color: #00d7ff; text-decoration-color: #00d7ff\">None</span>, <span style=\"color: #00af00; text-decoration-color: #00af00\">512</span>)            │             <span style=\"color: #00af00; text-decoration-color: #00af00\">0</span> │\n",
       "├─────────────────────────────────┼────────────────────────┼───────────────┤\n",
       "│ dense_6 (<span style=\"color: #0087ff; text-decoration-color: #0087ff\">Dense</span>)                 │ (<span style=\"color: #00d7ff; text-decoration-color: #00d7ff\">None</span>, <span style=\"color: #00af00; text-decoration-color: #00af00\">256</span>)            │       <span style=\"color: #00af00; text-decoration-color: #00af00\">131,328</span> │\n",
       "├─────────────────────────────────┼────────────────────────┼───────────────┤\n",
       "│ dropout_3 (<span style=\"color: #0087ff; text-decoration-color: #0087ff\">Dropout</span>)             │ (<span style=\"color: #00d7ff; text-decoration-color: #00d7ff\">None</span>, <span style=\"color: #00af00; text-decoration-color: #00af00\">256</span>)            │             <span style=\"color: #00af00; text-decoration-color: #00af00\">0</span> │\n",
       "├─────────────────────────────────┼────────────────────────┼───────────────┤\n",
       "│ dense_7 (<span style=\"color: #0087ff; text-decoration-color: #0087ff\">Dense</span>)                 │ (<span style=\"color: #00d7ff; text-decoration-color: #00d7ff\">None</span>, <span style=\"color: #00af00; text-decoration-color: #00af00\">10</span>)             │         <span style=\"color: #00af00; text-decoration-color: #00af00\">2,570</span> │\n",
       "└─────────────────────────────────┴────────────────────────┴───────────────┘\n",
       "</pre>\n"
      ],
      "text/plain": [
       "┏━━━━━━━━━━━━━━━━━━━━━━━━━━━━━━━━━┳━━━━━━━━━━━━━━━━━━━━━━━━┳━━━━━━━━━━━━━━━┓\n",
       "┃\u001b[1m \u001b[0m\u001b[1mLayer (type)                   \u001b[0m\u001b[1m \u001b[0m┃\u001b[1m \u001b[0m\u001b[1mOutput Shape          \u001b[0m\u001b[1m \u001b[0m┃\u001b[1m \u001b[0m\u001b[1m      Param #\u001b[0m\u001b[1m \u001b[0m┃\n",
       "┡━━━━━━━━━━━━━━━━━━━━━━━━━━━━━━━━━╇━━━━━━━━━━━━━━━━━━━━━━━━╇━━━━━━━━━━━━━━━┩\n",
       "│ vgg16 (\u001b[38;5;33mFunctional\u001b[0m)              │ (\u001b[38;5;45mNone\u001b[0m, \u001b[38;5;34m1\u001b[0m, \u001b[38;5;34m1\u001b[0m, \u001b[38;5;34m512\u001b[0m)      │    \u001b[38;5;34m14,714,688\u001b[0m │\n",
       "├─────────────────────────────────┼────────────────────────┼───────────────┤\n",
       "│ flatten_3 (\u001b[38;5;33mFlatten\u001b[0m)             │ (\u001b[38;5;45mNone\u001b[0m, \u001b[38;5;34m512\u001b[0m)            │             \u001b[38;5;34m0\u001b[0m │\n",
       "├─────────────────────────────────┼────────────────────────┼───────────────┤\n",
       "│ dense_6 (\u001b[38;5;33mDense\u001b[0m)                 │ (\u001b[38;5;45mNone\u001b[0m, \u001b[38;5;34m256\u001b[0m)            │       \u001b[38;5;34m131,328\u001b[0m │\n",
       "├─────────────────────────────────┼────────────────────────┼───────────────┤\n",
       "│ dropout_3 (\u001b[38;5;33mDropout\u001b[0m)             │ (\u001b[38;5;45mNone\u001b[0m, \u001b[38;5;34m256\u001b[0m)            │             \u001b[38;5;34m0\u001b[0m │\n",
       "├─────────────────────────────────┼────────────────────────┼───────────────┤\n",
       "│ dense_7 (\u001b[38;5;33mDense\u001b[0m)                 │ (\u001b[38;5;45mNone\u001b[0m, \u001b[38;5;34m10\u001b[0m)             │         \u001b[38;5;34m2,570\u001b[0m │\n",
       "└─────────────────────────────────┴────────────────────────┴───────────────┘\n"
      ]
     },
     "metadata": {},
     "output_type": "display_data"
    },
    {
     "data": {
      "text/html": [
       "<pre style=\"white-space:pre;overflow-x:auto;line-height:normal;font-family:Menlo,'DejaVu Sans Mono',consolas,'Courier New',monospace\"><span style=\"font-weight: bold\"> Total params: </span><span style=\"color: #00af00; text-decoration-color: #00af00\">14,848,586</span> (56.64 MB)\n",
       "</pre>\n"
      ],
      "text/plain": [
       "\u001b[1m Total params: \u001b[0m\u001b[38;5;34m14,848,586\u001b[0m (56.64 MB)\n"
      ]
     },
     "metadata": {},
     "output_type": "display_data"
    },
    {
     "data": {
      "text/html": [
       "<pre style=\"white-space:pre;overflow-x:auto;line-height:normal;font-family:Menlo,'DejaVu Sans Mono',consolas,'Courier New',monospace\"><span style=\"font-weight: bold\"> Trainable params: </span><span style=\"color: #00af00; text-decoration-color: #00af00\">7,213,322</span> (27.52 MB)\n",
       "</pre>\n"
      ],
      "text/plain": [
       "\u001b[1m Trainable params: \u001b[0m\u001b[38;5;34m7,213,322\u001b[0m (27.52 MB)\n"
      ]
     },
     "metadata": {},
     "output_type": "display_data"
    },
    {
     "data": {
      "text/html": [
       "<pre style=\"white-space:pre;overflow-x:auto;line-height:normal;font-family:Menlo,'DejaVu Sans Mono',consolas,'Courier New',monospace\"><span style=\"font-weight: bold\"> Non-trainable params: </span><span style=\"color: #00af00; text-decoration-color: #00af00\">7,635,264</span> (29.13 MB)\n",
       "</pre>\n"
      ],
      "text/plain": [
       "\u001b[1m Non-trainable params: \u001b[0m\u001b[38;5;34m7,635,264\u001b[0m (29.13 MB)\n"
      ]
     },
     "metadata": {},
     "output_type": "display_data"
    }
   ],
   "source": [
    "input_shape = (32, 32, 3)\n",
    "\n",
    "model = create_model(input_shape=input_shape, fine_tune=4)\n",
    "\n",
    "model.compile(optimizer='adam', loss='categorical_crossentropy', metrics=['accuracy'])\n",
    "\n",
    "model.summary()"
   ]
  },
  {
   "cell_type": "markdown",
   "id": "1ddade31-2e93-4f3a-a38a-ea7c89b1d0f0",
   "metadata": {},
   "source": [
    "### 14.1) - 3"
   ]
  },
  {
   "cell_type": "code",
   "execution_count": 16,
   "id": "7f02afa1-aea8-45ba-a5c4-e3e6d97e6d40",
   "metadata": {},
   "outputs": [],
   "source": [
    "from keras.models import Sequential\n",
    "from keras.layers import Dense, Flatten, Input\n",
    "\n",
    "def create_custom_model(input_shape):\n",
    "    model = Sequential()\n",
    "    \n",
    "    model.add(Input(shape=input_shape))\n",
    "    \n",
    "    model.add(Flatten())\n",
    "    \n",
    "    model.add(Dense(20, activation='relu'))\n",
    "    \n",
    "    model.add(Dense(10, activation='relu'))\n",
    "    \n",
    "    model.add(Dense(10, activation='softmax'))\n",
    "    \n",
    "    return model"
   ]
  },
  {
   "cell_type": "code",
   "execution_count": 17,
   "id": "3cf6bd77-2234-4d23-a39b-25771ac39ac3",
   "metadata": {},
   "outputs": [
    {
     "data": {
      "text/html": [
       "<pre style=\"white-space:pre;overflow-x:auto;line-height:normal;font-family:Menlo,'DejaVu Sans Mono',consolas,'Courier New',monospace\"><span style=\"font-weight: bold\">Model: \"sequential_3\"</span>\n",
       "</pre>\n"
      ],
      "text/plain": [
       "\u001b[1mModel: \"sequential_3\"\u001b[0m\n"
      ]
     },
     "metadata": {},
     "output_type": "display_data"
    },
    {
     "data": {
      "text/html": [
       "<pre style=\"white-space:pre;overflow-x:auto;line-height:normal;font-family:Menlo,'DejaVu Sans Mono',consolas,'Courier New',monospace\">┏━━━━━━━━━━━━━━━━━━━━━━━━━━━━━━━━━┳━━━━━━━━━━━━━━━━━━━━━━━━┳━━━━━━━━━━━━━━━┓\n",
       "┃<span style=\"font-weight: bold\"> Layer (type)                    </span>┃<span style=\"font-weight: bold\"> Output Shape           </span>┃<span style=\"font-weight: bold\">       Param # </span>┃\n",
       "┡━━━━━━━━━━━━━━━━━━━━━━━━━━━━━━━━━╇━━━━━━━━━━━━━━━━━━━━━━━━╇━━━━━━━━━━━━━━━┩\n",
       "│ flatten_5 (<span style=\"color: #0087ff; text-decoration-color: #0087ff\">Flatten</span>)             │ (<span style=\"color: #00d7ff; text-decoration-color: #00d7ff\">None</span>, <span style=\"color: #00af00; text-decoration-color: #00af00\">3072</span>)           │             <span style=\"color: #00af00; text-decoration-color: #00af00\">0</span> │\n",
       "├─────────────────────────────────┼────────────────────────┼───────────────┤\n",
       "│ dense_11 (<span style=\"color: #0087ff; text-decoration-color: #0087ff\">Dense</span>)                │ (<span style=\"color: #00d7ff; text-decoration-color: #00d7ff\">None</span>, <span style=\"color: #00af00; text-decoration-color: #00af00\">20</span>)             │        <span style=\"color: #00af00; text-decoration-color: #00af00\">61,460</span> │\n",
       "├─────────────────────────────────┼────────────────────────┼───────────────┤\n",
       "│ dense_12 (<span style=\"color: #0087ff; text-decoration-color: #0087ff\">Dense</span>)                │ (<span style=\"color: #00d7ff; text-decoration-color: #00d7ff\">None</span>, <span style=\"color: #00af00; text-decoration-color: #00af00\">10</span>)             │           <span style=\"color: #00af00; text-decoration-color: #00af00\">210</span> │\n",
       "├─────────────────────────────────┼────────────────────────┼───────────────┤\n",
       "│ dense_13 (<span style=\"color: #0087ff; text-decoration-color: #0087ff\">Dense</span>)                │ (<span style=\"color: #00d7ff; text-decoration-color: #00d7ff\">None</span>, <span style=\"color: #00af00; text-decoration-color: #00af00\">10</span>)             │           <span style=\"color: #00af00; text-decoration-color: #00af00\">110</span> │\n",
       "└─────────────────────────────────┴────────────────────────┴───────────────┘\n",
       "</pre>\n"
      ],
      "text/plain": [
       "┏━━━━━━━━━━━━━━━━━━━━━━━━━━━━━━━━━┳━━━━━━━━━━━━━━━━━━━━━━━━┳━━━━━━━━━━━━━━━┓\n",
       "┃\u001b[1m \u001b[0m\u001b[1mLayer (type)                   \u001b[0m\u001b[1m \u001b[0m┃\u001b[1m \u001b[0m\u001b[1mOutput Shape          \u001b[0m\u001b[1m \u001b[0m┃\u001b[1m \u001b[0m\u001b[1m      Param #\u001b[0m\u001b[1m \u001b[0m┃\n",
       "┡━━━━━━━━━━━━━━━━━━━━━━━━━━━━━━━━━╇━━━━━━━━━━━━━━━━━━━━━━━━╇━━━━━━━━━━━━━━━┩\n",
       "│ flatten_5 (\u001b[38;5;33mFlatten\u001b[0m)             │ (\u001b[38;5;45mNone\u001b[0m, \u001b[38;5;34m3072\u001b[0m)           │             \u001b[38;5;34m0\u001b[0m │\n",
       "├─────────────────────────────────┼────────────────────────┼───────────────┤\n",
       "│ dense_11 (\u001b[38;5;33mDense\u001b[0m)                │ (\u001b[38;5;45mNone\u001b[0m, \u001b[38;5;34m20\u001b[0m)             │        \u001b[38;5;34m61,460\u001b[0m │\n",
       "├─────────────────────────────────┼────────────────────────┼───────────────┤\n",
       "│ dense_12 (\u001b[38;5;33mDense\u001b[0m)                │ (\u001b[38;5;45mNone\u001b[0m, \u001b[38;5;34m10\u001b[0m)             │           \u001b[38;5;34m210\u001b[0m │\n",
       "├─────────────────────────────────┼────────────────────────┼───────────────┤\n",
       "│ dense_13 (\u001b[38;5;33mDense\u001b[0m)                │ (\u001b[38;5;45mNone\u001b[0m, \u001b[38;5;34m10\u001b[0m)             │           \u001b[38;5;34m110\u001b[0m │\n",
       "└─────────────────────────────────┴────────────────────────┴───────────────┘\n"
      ]
     },
     "metadata": {},
     "output_type": "display_data"
    },
    {
     "data": {
      "text/html": [
       "<pre style=\"white-space:pre;overflow-x:auto;line-height:normal;font-family:Menlo,'DejaVu Sans Mono',consolas,'Courier New',monospace\"><span style=\"font-weight: bold\"> Total params: </span><span style=\"color: #00af00; text-decoration-color: #00af00\">61,780</span> (241.33 KB)\n",
       "</pre>\n"
      ],
      "text/plain": [
       "\u001b[1m Total params: \u001b[0m\u001b[38;5;34m61,780\u001b[0m (241.33 KB)\n"
      ]
     },
     "metadata": {},
     "output_type": "display_data"
    },
    {
     "data": {
      "text/html": [
       "<pre style=\"white-space:pre;overflow-x:auto;line-height:normal;font-family:Menlo,'DejaVu Sans Mono',consolas,'Courier New',monospace\"><span style=\"font-weight: bold\"> Trainable params: </span><span style=\"color: #00af00; text-decoration-color: #00af00\">61,780</span> (241.33 KB)\n",
       "</pre>\n"
      ],
      "text/plain": [
       "\u001b[1m Trainable params: \u001b[0m\u001b[38;5;34m61,780\u001b[0m (241.33 KB)\n"
      ]
     },
     "metadata": {},
     "output_type": "display_data"
    },
    {
     "data": {
      "text/html": [
       "<pre style=\"white-space:pre;overflow-x:auto;line-height:normal;font-family:Menlo,'DejaVu Sans Mono',consolas,'Courier New',monospace\"><span style=\"font-weight: bold\"> Non-trainable params: </span><span style=\"color: #00af00; text-decoration-color: #00af00\">0</span> (0.00 B)\n",
       "</pre>\n"
      ],
      "text/plain": [
       "\u001b[1m Non-trainable params: \u001b[0m\u001b[38;5;34m0\u001b[0m (0.00 B)\n"
      ]
     },
     "metadata": {},
     "output_type": "display_data"
    }
   ],
   "source": [
    "input_shape = (32, 32, 3)\n",
    "\n",
    "model = create_custom_model(input_shape)\n",
    "\n",
    "model.compile(optimizer='adam', loss='categorical_crossentropy', metrics=['accuracy'])\n",
    "\n",
    "model.summary()"
   ]
  },
  {
   "cell_type": "code",
   "execution_count": 18,
   "id": "54c766df-ad66-4a35-9012-ed0e6a3c63f3",
   "metadata": {},
   "outputs": [
    {
     "data": {
      "text/html": [
       "<pre style=\"white-space:pre;overflow-x:auto;line-height:normal;font-family:Menlo,'DejaVu Sans Mono',consolas,'Courier New',monospace\"><span style=\"font-weight: bold\">Model: \"sequential_4\"</span>\n",
       "</pre>\n"
      ],
      "text/plain": [
       "\u001b[1mModel: \"sequential_4\"\u001b[0m\n"
      ]
     },
     "metadata": {},
     "output_type": "display_data"
    },
    {
     "data": {
      "text/html": [
       "<pre style=\"white-space:pre;overflow-x:auto;line-height:normal;font-family:Menlo,'DejaVu Sans Mono',consolas,'Courier New',monospace\">┏━━━━━━━━━━━━━━━━━━━━━━━━━━━━━━━━━┳━━━━━━━━━━━━━━━━━━━━━━━━┳━━━━━━━━━━━━━━━┓\n",
       "┃<span style=\"font-weight: bold\"> Layer (type)                    </span>┃<span style=\"font-weight: bold\"> Output Shape           </span>┃<span style=\"font-weight: bold\">       Param # </span>┃\n",
       "┡━━━━━━━━━━━━━━━━━━━━━━━━━━━━━━━━━╇━━━━━━━━━━━━━━━━━━━━━━━━╇━━━━━━━━━━━━━━━┩\n",
       "│ vgg16 (<span style=\"color: #0087ff; text-decoration-color: #0087ff\">Functional</span>)              │ (<span style=\"color: #00d7ff; text-decoration-color: #00d7ff\">None</span>, <span style=\"color: #00af00; text-decoration-color: #00af00\">1</span>, <span style=\"color: #00af00; text-decoration-color: #00af00\">1</span>, <span style=\"color: #00af00; text-decoration-color: #00af00\">512</span>)      │    <span style=\"color: #00af00; text-decoration-color: #00af00\">14,714,688</span> │\n",
       "├─────────────────────────────────┼────────────────────────┼───────────────┤\n",
       "│ flatten_6 (<span style=\"color: #0087ff; text-decoration-color: #0087ff\">Flatten</span>)             │ (<span style=\"color: #00d7ff; text-decoration-color: #00d7ff\">None</span>, <span style=\"color: #00af00; text-decoration-color: #00af00\">512</span>)            │             <span style=\"color: #00af00; text-decoration-color: #00af00\">0</span> │\n",
       "├─────────────────────────────────┼────────────────────────┼───────────────┤\n",
       "│ dense_14 (<span style=\"color: #0087ff; text-decoration-color: #0087ff\">Dense</span>)                │ (<span style=\"color: #00d7ff; text-decoration-color: #00d7ff\">None</span>, <span style=\"color: #00af00; text-decoration-color: #00af00\">20</span>)             │        <span style=\"color: #00af00; text-decoration-color: #00af00\">10,260</span> │\n",
       "├─────────────────────────────────┼────────────────────────┼───────────────┤\n",
       "│ dense_15 (<span style=\"color: #0087ff; text-decoration-color: #0087ff\">Dense</span>)                │ (<span style=\"color: #00d7ff; text-decoration-color: #00d7ff\">None</span>, <span style=\"color: #00af00; text-decoration-color: #00af00\">10</span>)             │           <span style=\"color: #00af00; text-decoration-color: #00af00\">210</span> │\n",
       "├─────────────────────────────────┼────────────────────────┼───────────────┤\n",
       "│ dense_16 (<span style=\"color: #0087ff; text-decoration-color: #0087ff\">Dense</span>)                │ (<span style=\"color: #00d7ff; text-decoration-color: #00d7ff\">None</span>, <span style=\"color: #00af00; text-decoration-color: #00af00\">10</span>)             │           <span style=\"color: #00af00; text-decoration-color: #00af00\">110</span> │\n",
       "└─────────────────────────────────┴────────────────────────┴───────────────┘\n",
       "</pre>\n"
      ],
      "text/plain": [
       "┏━━━━━━━━━━━━━━━━━━━━━━━━━━━━━━━━━┳━━━━━━━━━━━━━━━━━━━━━━━━┳━━━━━━━━━━━━━━━┓\n",
       "┃\u001b[1m \u001b[0m\u001b[1mLayer (type)                   \u001b[0m\u001b[1m \u001b[0m┃\u001b[1m \u001b[0m\u001b[1mOutput Shape          \u001b[0m\u001b[1m \u001b[0m┃\u001b[1m \u001b[0m\u001b[1m      Param #\u001b[0m\u001b[1m \u001b[0m┃\n",
       "┡━━━━━━━━━━━━━━━━━━━━━━━━━━━━━━━━━╇━━━━━━━━━━━━━━━━━━━━━━━━╇━━━━━━━━━━━━━━━┩\n",
       "│ vgg16 (\u001b[38;5;33mFunctional\u001b[0m)              │ (\u001b[38;5;45mNone\u001b[0m, \u001b[38;5;34m1\u001b[0m, \u001b[38;5;34m1\u001b[0m, \u001b[38;5;34m512\u001b[0m)      │    \u001b[38;5;34m14,714,688\u001b[0m │\n",
       "├─────────────────────────────────┼────────────────────────┼───────────────┤\n",
       "│ flatten_6 (\u001b[38;5;33mFlatten\u001b[0m)             │ (\u001b[38;5;45mNone\u001b[0m, \u001b[38;5;34m512\u001b[0m)            │             \u001b[38;5;34m0\u001b[0m │\n",
       "├─────────────────────────────────┼────────────────────────┼───────────────┤\n",
       "│ dense_14 (\u001b[38;5;33mDense\u001b[0m)                │ (\u001b[38;5;45mNone\u001b[0m, \u001b[38;5;34m20\u001b[0m)             │        \u001b[38;5;34m10,260\u001b[0m │\n",
       "├─────────────────────────────────┼────────────────────────┼───────────────┤\n",
       "│ dense_15 (\u001b[38;5;33mDense\u001b[0m)                │ (\u001b[38;5;45mNone\u001b[0m, \u001b[38;5;34m10\u001b[0m)             │           \u001b[38;5;34m210\u001b[0m │\n",
       "├─────────────────────────────────┼────────────────────────┼───────────────┤\n",
       "│ dense_16 (\u001b[38;5;33mDense\u001b[0m)                │ (\u001b[38;5;45mNone\u001b[0m, \u001b[38;5;34m10\u001b[0m)             │           \u001b[38;5;34m110\u001b[0m │\n",
       "└─────────────────────────────────┴────────────────────────┴───────────────┘\n"
      ]
     },
     "metadata": {},
     "output_type": "display_data"
    },
    {
     "data": {
      "text/html": [
       "<pre style=\"white-space:pre;overflow-x:auto;line-height:normal;font-family:Menlo,'DejaVu Sans Mono',consolas,'Courier New',monospace\"><span style=\"font-weight: bold\"> Total params: </span><span style=\"color: #00af00; text-decoration-color: #00af00\">14,725,268</span> (56.17 MB)\n",
       "</pre>\n"
      ],
      "text/plain": [
       "\u001b[1m Total params: \u001b[0m\u001b[38;5;34m14,725,268\u001b[0m (56.17 MB)\n"
      ]
     },
     "metadata": {},
     "output_type": "display_data"
    },
    {
     "data": {
      "text/html": [
       "<pre style=\"white-space:pre;overflow-x:auto;line-height:normal;font-family:Menlo,'DejaVu Sans Mono',consolas,'Courier New',monospace\"><span style=\"font-weight: bold\"> Trainable params: </span><span style=\"color: #00af00; text-decoration-color: #00af00\">10,580</span> (41.33 KB)\n",
       "</pre>\n"
      ],
      "text/plain": [
       "\u001b[1m Trainable params: \u001b[0m\u001b[38;5;34m10,580\u001b[0m (41.33 KB)\n"
      ]
     },
     "metadata": {},
     "output_type": "display_data"
    },
    {
     "data": {
      "text/html": [
       "<pre style=\"white-space:pre;overflow-x:auto;line-height:normal;font-family:Menlo,'DejaVu Sans Mono',consolas,'Courier New',monospace\"><span style=\"font-weight: bold\"> Non-trainable params: </span><span style=\"color: #00af00; text-decoration-color: #00af00\">14,714,688</span> (56.13 MB)\n",
       "</pre>\n"
      ],
      "text/plain": [
       "\u001b[1m Non-trainable params: \u001b[0m\u001b[38;5;34m14,714,688\u001b[0m (56.13 MB)\n"
      ]
     },
     "metadata": {},
     "output_type": "display_data"
    },
    {
     "name": "stdout",
     "output_type": "stream",
     "text": [
      "None\n"
     ]
    }
   ],
   "source": [
    "from keras.applications import VGG16\n",
    "from keras.models import Sequential\n",
    "from keras.layers import Flatten, Dense, Dropout\n",
    "\n",
    "def create_model(input_shape, fine_tune=0):\n",
    "    conv_base = VGG16(include_top=False, weights='imagenet', input_shape=input_shape)\n",
    "    \n",
    "    if fine_tune > 0:\n",
    "        for layer in conv_base.layers[:-fine_tune]:\n",
    "            layer.trainable = False\n",
    "    else:\n",
    "        for layer in conv_base.layers:\n",
    "            layer.trainable = False\n",
    "\n",
    "    dense_layer_1 = Dense(20, activation='relu')  \n",
    "    dense_layer_2 = Dense(10, activation='relu')  \n",
    "    output_layer = Dense(10, activation='softmax')  \n",
    "    \n",
    "    model = Sequential([\n",
    "        conv_base,\n",
    "        Flatten(),\n",
    "        dense_layer_1,\n",
    "        dense_layer_2,\n",
    "        output_layer\n",
    "    ])\n",
    "    \n",
    "    return model\n",
    "\n",
    "input_shape = X_train[0].shape  \n",
    "\n",
    "model = create_model(input_shape, fine_tune=0)\n",
    "\n",
    "print(model.summary())"
   ]
  },
  {
   "cell_type": "markdown",
   "id": "66f3c293-9d35-4991-9aff-85220f394335",
   "metadata": {},
   "source": [
    "### 14.4) - 4"
   ]
  },
  {
   "cell_type": "code",
   "execution_count": 5,
   "id": "dcd63a09-41ef-4fb9-af7a-9ac244dc6689",
   "metadata": {},
   "outputs": [
    {
     "name": "stdout",
     "output_type": "stream",
     "text": [
      "Epoch 1/10\n",
      "\u001b[1m782/782\u001b[0m \u001b[32m━━━━━━━━━━━━━━━━━━━━\u001b[0m\u001b[37m\u001b[0m \u001b[1m148s\u001b[0m 188ms/step - accuracy: 0.1236 - loss: 2.2824 - val_accuracy: 0.1999 - val_loss: 2.1886\n",
      "Epoch 2/10\n",
      "\u001b[1m782/782\u001b[0m \u001b[32m━━━━━━━━━━━━━━━━━━━━\u001b[0m\u001b[37m\u001b[0m \u001b[1m169s\u001b[0m 216ms/step - accuracy: 0.2409 - loss: 2.1306 - val_accuracy: 0.3068 - val_loss: 1.9726\n",
      "Epoch 3/10\n",
      "\u001b[1m782/782\u001b[0m \u001b[32m━━━━━━━━━━━━━━━━━━━━\u001b[0m\u001b[37m\u001b[0m \u001b[1m175s\u001b[0m 224ms/step - accuracy: 0.3263 - loss: 1.9247 - val_accuracy: 0.3508 - val_loss: 1.8149\n",
      "Epoch 4/10\n",
      "\u001b[1m782/782\u001b[0m \u001b[32m━━━━━━━━━━━━━━━━━━━━\u001b[0m\u001b[37m\u001b[0m \u001b[1m176s\u001b[0m 226ms/step - accuracy: 0.3699 - loss: 1.7766 - val_accuracy: 0.3834 - val_loss: 1.7049\n",
      "Epoch 5/10\n",
      "\u001b[1m782/782\u001b[0m \u001b[32m━━━━━━━━━━━━━━━━━━━━\u001b[0m\u001b[37m\u001b[0m \u001b[1m175s\u001b[0m 223ms/step - accuracy: 0.4032 - loss: 1.6672 - val_accuracy: 0.4189 - val_loss: 1.6263\n",
      "Epoch 6/10\n",
      "\u001b[1m782/782\u001b[0m \u001b[32m━━━━━━━━━━━━━━━━━━━━\u001b[0m\u001b[37m\u001b[0m \u001b[1m171s\u001b[0m 219ms/step - accuracy: 0.4359 - loss: 1.5979 - val_accuracy: 0.4512 - val_loss: 1.5718\n",
      "Epoch 7/10\n",
      "\u001b[1m782/782\u001b[0m \u001b[32m━━━━━━━━━━━━━━━━━━━━\u001b[0m\u001b[37m\u001b[0m \u001b[1m171s\u001b[0m 218ms/step - accuracy: 0.4588 - loss: 1.5490 - val_accuracy: 0.4703 - val_loss: 1.5308\n",
      "Epoch 8/10\n",
      "\u001b[1m782/782\u001b[0m \u001b[32m━━━━━━━━━━━━━━━━━━━━\u001b[0m\u001b[37m\u001b[0m \u001b[1m171s\u001b[0m 219ms/step - accuracy: 0.4770 - loss: 1.5021 - val_accuracy: 0.4805 - val_loss: 1.4993\n",
      "Epoch 9/10\n",
      "\u001b[1m782/782\u001b[0m \u001b[32m━━━━━━━━━━━━━━━━━━━━\u001b[0m\u001b[37m\u001b[0m \u001b[1m170s\u001b[0m 217ms/step - accuracy: 0.4942 - loss: 1.4687 - val_accuracy: 0.4893 - val_loss: 1.4724\n",
      "Epoch 10/10\n",
      "\u001b[1m782/782\u001b[0m \u001b[32m━━━━━━━━━━━━━━━━━━━━\u001b[0m\u001b[37m\u001b[0m \u001b[1m168s\u001b[0m 215ms/step - accuracy: 0.5018 - loss: 1.4508 - val_accuracy: 0.4934 - val_loss: 1.4494\n",
      "313/313 - 30s - 94ms/step - accuracy: 0.4934 - loss: 1.4494\n",
      "Test Accuracy: 0.49\n"
     ]
    },
    {
     "data": {
      "image/png": "[encoded data removed]",
      "text/plain": [
       "<Figure size 640x480 with 1 Axes>"
      ]
     },
     "metadata": {},
     "output_type": "display_data"
    }
   ],
   "source": [
    "from keras.applications import VGG16\n",
    "from keras.models import Sequential\n",
    "from keras.layers import Flatten, Dense, Dropout\n",
    "from keras.optimizers import Adam\n",
    "import matplotlib.pyplot as plt\n",
    "\n",
    "# Function to create the model\n",
    "def create_model(input_shape, fine_tune=0):\n",
    "    # Load the VGG16 model without the fully connected layers\n",
    "    conv_base = VGG16(include_top=False, weights='imagenet', input_shape=input_shape)\n",
    "    \n",
    "    # Fine-tune the model based on the specified number of layers\n",
    "    if fine_tune > 0:\n",
    "        for layer in conv_base.layers[:-fine_tune]:\n",
    "            layer.trainable = False\n",
    "    else:\n",
    "        for layer in conv_base.layers:\n",
    "            layer.trainable = False\n",
    "    \n",
    "    # Add custom dense layers for CIFAR-10 classification\n",
    "    model = Sequential([\n",
    "        conv_base,\n",
    "        Flatten(),\n",
    "        Dense(20, activation='relu'),  # Dense layer with 20 nodes\n",
    "        Dense(10, activation='relu'),  # Dense layer with 10 nodes\n",
    "        Dense(10, activation='softmax')  # Output layer for 10 classes\n",
    "    ])\n",
    "    \n",
    "    return model\n",
    "\n",
    "# Create the model\n",
    "input_shape = X_train[0].shape  # Use the shape of your preprocessed data\n",
    "model = create_model(input_shape=input_shape, fine_tune=0)\n",
    "\n",
    "# Compile the model\n",
    "model.compile(\n",
    "    optimizer=Adam(learning_rate=0.0001),  # Adam optimizer with a small learning rate\n",
    "    loss='categorical_crossentropy',      # Cross-entropy loss for multi-class classification\n",
    "    metrics=['accuracy']                  # Track accuracy during training\n",
    ")\n",
    "\n",
    "# Train the model\n",
    "history = model.fit(\n",
    "    X_train, Y_train,                     \n",
    "    validation_data=(X_test, Y_test),     \n",
    "    epochs=10,                            \n",
    "    batch_size=64,                        \n",
    "    verbose=1                             \n",
    ")\n",
    "\n",
    "test_loss, test_accuracy = model.evaluate(X_test, Y_test, verbose=2)\n",
    "\n",
    "print(f\"Test Accuracy: {test_accuracy:.2f}\")\n",
    "\n",
    "plt.plot(history.history['accuracy'], label='Training Accuracy')\n",
    "plt.plot(history.history['val_accuracy'], label='Validation Accuracy')\n",
    "plt.xlabel('Epochs')\n",
    "plt.ylabel('Accuracy')\n",
    "plt.legend()\n",
    "plt.title('Training and Validation Accuracy')\n",
    "plt.show()"
   ]
  },
  {
   "cell_type": "markdown",
   "id": "502c4d33-7a69-4867-918d-53d996819ad1",
   "metadata": {},
   "source": [
    "### 2) [4 pts] change the number of layers you want to freeze. Plot a graph accuracy vs number of trainable layers. What is the optimal number of layers?"
   ]
  },
  {
   "cell_type": "code",
   "execution_count": 6,
   "id": "c15d5fbf-3f9d-44c2-8f1e-7cc52c6f7282",
   "metadata": {},
   "outputs": [
    {
     "name": "stdout",
     "output_type": "stream",
     "text": [
      "Training with 0 trainable layers...\n",
      "Epoch 1/5\n",
      "\u001b[1m782/782\u001b[0m \u001b[32m━━━━━━━━━━━━━━━━━━━━\u001b[0m\u001b[37m\u001b[0m \u001b[1m169s\u001b[0m 215ms/step - accuracy: 0.1535 - loss: 2.2428 - val_accuracy: 0.2858 - val_loss: 1.9973\n",
      "Epoch 2/5\n",
      "\u001b[1m782/782\u001b[0m \u001b[32m━━━━━━━━━━━━━━━━━━━━\u001b[0m\u001b[37m\u001b[0m \u001b[1m170s\u001b[0m 217ms/step - accuracy: 0.3197 - loss: 1.9334 - val_accuracy: 0.3780 - val_loss: 1.7835\n",
      "Epoch 3/5\n",
      "\u001b[1m782/782\u001b[0m \u001b[32m━━━━━━━━━━━━━━━━━━━━\u001b[0m\u001b[37m\u001b[0m \u001b[1m171s\u001b[0m 219ms/step - accuracy: 0.3900 - loss: 1.7489 - val_accuracy: 0.4152 - val_loss: 1.6658\n",
      "Epoch 4/5\n",
      "\u001b[1m782/782\u001b[0m \u001b[32m━━━━━━━━━━━━━━━━━━━━\u001b[0m\u001b[37m\u001b[0m \u001b[1m175s\u001b[0m 224ms/step - accuracy: 0.4267 - loss: 1.6401 - val_accuracy: 0.4418 - val_loss: 1.5960\n",
      "Epoch 5/5\n",
      "\u001b[1m782/782\u001b[0m \u001b[32m━━━━━━━━━━━━━━━━━━━━\u001b[0m\u001b[37m\u001b[0m \u001b[1m170s\u001b[0m 218ms/step - accuracy: 0.4520 - loss: 1.5737 - val_accuracy: 0.4594 - val_loss: 1.5446\n",
      "Test Accuracy with 0 trainable layers: 0.46\n",
      "Training with 4 trainable layers...\n",
      "Epoch 1/5\n",
      "\u001b[1m782/782\u001b[0m \u001b[32m━━━━━━━━━━━━━━━━━━━━\u001b[0m\u001b[37m\u001b[0m \u001b[1m293s\u001b[0m 374ms/step - accuracy: 0.4098 - loss: 1.7390 - val_accuracy: 0.6047 - val_loss: 1.1792\n",
      "Epoch 2/5\n",
      "\u001b[1m782/782\u001b[0m \u001b[32m━━━━━━━━━━━━━━━━━━━━\u001b[0m\u001b[37m\u001b[0m \u001b[1m311s\u001b[0m 397ms/step - accuracy: 0.6390 - loss: 1.0705 - val_accuracy: 0.7127 - val_loss: 0.8955\n",
      "Epoch 3/5\n",
      "\u001b[1m782/782\u001b[0m \u001b[32m━━━━━━━━━━━━━━━━━━━━\u001b[0m\u001b[37m\u001b[0m \u001b[1m307s\u001b[0m 393ms/step - accuracy: 0.7527 - loss: 0.7552 - val_accuracy: 0.7336 - val_loss: 0.8219\n",
      "Epoch 4/5\n",
      "\u001b[1m782/782\u001b[0m \u001b[32m━━━━━━━━━━━━━━━━━━━━\u001b[0m\u001b[37m\u001b[0m \u001b[1m315s\u001b[0m 403ms/step - accuracy: 0.7968 - loss: 0.6170 - val_accuracy: 0.7396 - val_loss: 0.8049\n",
      "Epoch 5/5\n",
      "\u001b[1m782/782\u001b[0m \u001b[32m━━━━━━━━━━━━━━━━━━━━\u001b[0m\u001b[37m\u001b[0m \u001b[1m348s\u001b[0m 445ms/step - accuracy: 0.8327 - loss: 0.5022 - val_accuracy: 0.7495 - val_loss: 0.7912\n",
      "Test Accuracy with 4 trainable layers: 0.75\n",
      "Training with 8 trainable layers...\n",
      "Epoch 1/5\n",
      "\u001b[1m782/782\u001b[0m \u001b[32m━━━━━━━━━━━━━━━━━━━━\u001b[0m\u001b[37m\u001b[0m \u001b[1m649s\u001b[0m 829ms/step - accuracy: 0.4385 - loss: 1.6580 - val_accuracy: 0.6356 - val_loss: 1.1334\n",
      "Epoch 2/5\n",
      "\u001b[1m782/782\u001b[0m \u001b[32m━━━━━━━━━━━━━━━━━━━━\u001b[0m\u001b[37m\u001b[0m \u001b[1m614s\u001b[0m 785ms/step - accuracy: 0.7017 - loss: 0.9155 - val_accuracy: 0.6920 - val_loss: 0.8858\n",
      "Epoch 3/5\n",
      "\u001b[1m782/782\u001b[0m \u001b[32m━━━━━━━━━━━━━━━━━━━━\u001b[0m\u001b[37m\u001b[0m \u001b[1m488s\u001b[0m 624ms/step - accuracy: 0.7673 - loss: 0.6334 - val_accuracy: 0.7871 - val_loss: 0.6824\n",
      "Epoch 4/5\n",
      "\u001b[1m782/782\u001b[0m \u001b[32m━━━━━━━━━━━━━━━━━━━━\u001b[0m\u001b[37m\u001b[0m \u001b[1m486s\u001b[0m 621ms/step - accuracy: 0.8716 - loss: 0.3923 - val_accuracy: 0.8028 - val_loss: 0.6530\n",
      "Epoch 5/5\n",
      "\u001b[1m782/782\u001b[0m \u001b[32m━━━━━━━━━━━━━━━━━━━━\u001b[0m\u001b[37m\u001b[0m \u001b[1m447s\u001b[0m 571ms/step - accuracy: 0.9091 - loss: 0.2739 - val_accuracy: 0.8024 - val_loss: 0.7148\n",
      "Test Accuracy with 8 trainable layers: 0.80\n",
      "Training with 12 trainable layers...\n",
      "Epoch 1/5\n",
      "\u001b[1m782/782\u001b[0m \u001b[32m━━━━━━━━━━━━━━━━━━━━\u001b[0m\u001b[37m\u001b[0m \u001b[1m634s\u001b[0m 809ms/step - accuracy: 0.5106 - loss: 1.3762 - val_accuracy: 0.7487 - val_loss: 0.7795\n",
      "Epoch 2/5\n",
      "\u001b[1m782/782\u001b[0m \u001b[32m━━━━━━━━━━━━━━━━━━━━\u001b[0m\u001b[37m\u001b[0m \u001b[1m606s\u001b[0m 775ms/step - accuracy: 0.7994 - loss: 0.6220 - val_accuracy: 0.8105 - val_loss: 0.5829\n",
      "Epoch 3/5\n",
      "\u001b[1m782/782\u001b[0m \u001b[32m━━━━━━━━━━━━━━━━━━━━\u001b[0m\u001b[37m\u001b[0m \u001b[1m593s\u001b[0m 759ms/step - accuracy: 0.8583 - loss: 0.4194 - val_accuracy: 0.8158 - val_loss: 0.5471\n",
      "Epoch 4/5\n",
      "\u001b[1m782/782\u001b[0m \u001b[32m━━━━━━━━━━━━━━━━━━━━\u001b[0m\u001b[37m\u001b[0m \u001b[1m637s\u001b[0m 815ms/step - accuracy: 0.9022 - loss: 0.2913 - val_accuracy: 0.8261 - val_loss: 0.5409\n",
      "Epoch 5/5\n",
      "\u001b[1m782/782\u001b[0m \u001b[32m━━━━━━━━━━━━━━━━━━━━\u001b[0m\u001b[37m\u001b[0m \u001b[1m655s\u001b[0m 837ms/step - accuracy: 0.9324 - loss: 0.2056 - val_accuracy: 0.8350 - val_loss: 0.5741\n",
      "Test Accuracy with 12 trainable layers: 0.83\n",
      "Training with 19 trainable layers...\n",
      "Epoch 1/5\n",
      "\u001b[1m782/782\u001b[0m \u001b[32m━━━━━━━━━━━━━━━━━━━━\u001b[0m\u001b[37m\u001b[0m \u001b[1m738s\u001b[0m 943ms/step - accuracy: 0.4192 - loss: 1.6580 - val_accuracy: 0.7109 - val_loss: 0.8536\n",
      "Epoch 2/5\n",
      "\u001b[1m782/782\u001b[0m \u001b[32m━━━━━━━━━━━━━━━━━━━━\u001b[0m\u001b[37m\u001b[0m \u001b[1m691s\u001b[0m 883ms/step - accuracy: 0.7628 - loss: 0.7261 - val_accuracy: 0.8144 - val_loss: 0.5945\n",
      "Epoch 3/5\n",
      "\u001b[1m782/782\u001b[0m \u001b[32m━━━━━━━━━━━━━━━━━━━━\u001b[0m\u001b[37m\u001b[0m \u001b[1m670s\u001b[0m 857ms/step - accuracy: 0.8558 - loss: 0.4508 - val_accuracy: 0.8306 - val_loss: 0.5393\n",
      "Epoch 4/5\n",
      "\u001b[1m782/782\u001b[0m \u001b[32m━━━━━━━━━━━━━━━━━━━━\u001b[0m\u001b[37m\u001b[0m \u001b[1m680s\u001b[0m 869ms/step - accuracy: 0.8955 - loss: 0.3239 - val_accuracy: 0.8484 - val_loss: 0.4854\n",
      "Epoch 5/5\n",
      "\u001b[1m782/782\u001b[0m \u001b[32m━━━━━━━━━━━━━━━━━━━━\u001b[0m\u001b[37m\u001b[0m \u001b[1m680s\u001b[0m 869ms/step - accuracy: 0.9278 - loss: 0.2223 - val_accuracy: 0.8349 - val_loss: 0.6102\n",
      "Test Accuracy with 19 trainable layers: 0.83\n"
     ]
    },
    {
     "data": {
      "image/png": "[encoded data removed]",
      "text/plain": [
       "<Figure size 800x600 with 1 Axes>"
      ]
     },
     "metadata": {},
     "output_type": "display_data"
    },
    {
     "name": "stdout",
     "output_type": "stream",
     "text": [
      "The optimal number of trainable layers is: 12\n"
     ]
    }
   ],
   "source": [
    "import numpy as np\n",
    "import matplotlib.pyplot as plt\n",
    "from keras.applications import VGG16\n",
    "from keras.models import Sequential\n",
    "from keras.layers import Flatten, Dense, Dropout\n",
    "from keras.optimizers import Adam\n",
    "\n",
    "def create_model(input_shape, fine_tune=0):\n",
    "    conv_base = VGG16(include_top=False, weights='imagenet', input_shape=input_shape)\n",
    "    \n",
    "    if fine_tune > 0:\n",
    "        for layer in conv_base.layers[:-fine_tune]:\n",
    "            layer.trainable = False\n",
    "    else:\n",
    "        for layer in conv_base.layers:\n",
    "            layer.trainable = False\n",
    "    \n",
    "    model = Sequential([\n",
    "        conv_base,\n",
    "        Flatten(),\n",
    "        Dense(20, activation='relu'),\n",
    "        Dense(10, activation='relu'),\n",
    "        Dense(10, activation='softmax')\n",
    "    ])\n",
    "    \n",
    "    return model\n",
    "\n",
    "trainable_layers = [0, 4, 8, 12, len(VGG16(include_top=False).layers)] \n",
    "accuracy_results = []\n",
    "\n",
    "input_shape = X_train[0].shape \n",
    "\n",
    "for fine_tune in trainable_layers:\n",
    "    print(f\"Training with {fine_tune} trainable layers...\")\n",
    "    \n",
    "    model = create_model(input_shape=input_shape, fine_tune=fine_tune)\n",
    "    model.compile(\n",
    "        optimizer=Adam(learning_rate=0.0001),\n",
    "        loss='categorical_crossentropy',\n",
    "        metrics=['accuracy']\n",
    "    )\n",
    "    \n",
    "    history = model.fit(\n",
    "        X_train, Y_train,\n",
    "        validation_data=(X_test, Y_test),\n",
    "        epochs=5,             \n",
    "        batch_size=64,\n",
    "        verbose=1\n",
    "    )\n",
    "    \n",
    "    test_loss, test_accuracy = model.evaluate(X_test, Y_test, verbose=0)\n",
    "    accuracy_results.append(test_accuracy)\n",
    "    print(f\"Test Accuracy with {fine_tune} trainable layers: {test_accuracy:.2f}\")\n",
    "\n",
    "plt.figure(figsize=(8, 6))\n",
    "plt.plot(trainable_layers, accuracy_results, marker='o')\n",
    "plt.title('Accuracy vs. Number of Trainable Layers')\n",
    "plt.xlabel('Number of Trainable Layers')\n",
    "plt.ylabel('Test Accuracy')\n",
    "plt.grid(True)\n",
    "plt.show()\n",
    "\n",
    "optimal_layers = trainable_layers[np.argmax(accuracy_results)]\n",
    "print(f\"The optimal number of trainable layers is: {optimal_layers}\")"
   ]
  },
  {
   "cell_type": "markdown",
   "id": "0b01d7ca-4684-41a4-abf5-b242b4ea56b4",
   "metadata": {},
   "source": [
    "### 3) [bonus 8 pts] Use mnist dataset as an input and repeat above process."
   ]
  },
  {
   "cell_type": "code",
   "execution_count": 8,
   "id": "62bf4d58-be37-444c-87a9-22953ab607b4",
   "metadata": {},
   "outputs": [
    {
     "name": "stdout",
     "output_type": "stream",
     "text": [
      "Training with 0 trainable layers...\n",
      "Epoch 1/3\n",
      "\u001b[1m157/157\u001b[0m \u001b[32m━━━━━━━━━━━━━━━━━━━━\u001b[0m\u001b[37m\u001b[0m \u001b[1m32s\u001b[0m 204ms/step - accuracy: 0.1418 - loss: 2.2805 - val_accuracy: 0.2145 - val_loss: 2.1934\n",
      "Epoch 2/3\n",
      "\u001b[1m157/157\u001b[0m \u001b[32m━━━━━━━━━━━━━━━━━━━━\u001b[0m\u001b[37m\u001b[0m \u001b[1m33s\u001b[0m 210ms/step - accuracy: 0.2804 - loss: 2.1601 - val_accuracy: 0.3630 - val_loss: 2.0819\n",
      "Epoch 3/3\n",
      "\u001b[1m157/157\u001b[0m \u001b[32m━━━━━━━━━━━━━━━━━━━━\u001b[0m\u001b[37m\u001b[0m \u001b[1m33s\u001b[0m 213ms/step - accuracy: 0.3747 - loss: 2.0429 - val_accuracy: 0.3495 - val_loss: 1.9332\n",
      "Test Accuracy with 0 trainable layers: 0.35\n",
      "Training with 4 trainable layers...\n",
      "Epoch 1/3\n",
      "\u001b[1m157/157\u001b[0m \u001b[32m━━━━━━━━━━━━━━━━━━━━\u001b[0m\u001b[37m\u001b[0m \u001b[1m54s\u001b[0m 339ms/step - accuracy: 0.4294 - loss: 1.4562 - val_accuracy: 0.6660 - val_loss: 0.6376\n",
      "Epoch 2/3\n",
      "\u001b[1m157/157\u001b[0m \u001b[32m━━━━━━━━━━━━━━━━━━━━\u001b[0m\u001b[37m\u001b[0m \u001b[1m53s\u001b[0m 337ms/step - accuracy: 0.6911 - loss: 0.5555 - val_accuracy: 0.8670 - val_loss: 0.4801\n",
      "Epoch 3/3\n",
      "\u001b[1m157/157\u001b[0m \u001b[32m━━━━━━━━━━━━━━━━━━━━\u001b[0m\u001b[37m\u001b[0m \u001b[1m53s\u001b[0m 338ms/step - accuracy: 0.9094 - loss: 0.3180 - val_accuracy: 0.9535 - val_loss: 0.2164\n",
      "Test Accuracy with 4 trainable layers: 0.95\n",
      "Training with 8 trainable layers...\n",
      "Epoch 1/3\n",
      "\u001b[1m157/157\u001b[0m \u001b[32m━━━━━━━━━━━━━━━━━━━━\u001b[0m\u001b[37m\u001b[0m \u001b[1m86s\u001b[0m 542ms/step - accuracy: 0.6420 - loss: 0.9598 - val_accuracy: 0.8535 - val_loss: 0.2664\n",
      "Epoch 2/3\n",
      "\u001b[1m157/157\u001b[0m \u001b[32m━━━━━━━━━━━━━━━━━━━━\u001b[0m\u001b[37m\u001b[0m \u001b[1m86s\u001b[0m 545ms/step - accuracy: 0.9226 - loss: 0.1849 - val_accuracy: 0.9545 - val_loss: 0.2068\n",
      "Epoch 3/3\n",
      "\u001b[1m157/157\u001b[0m \u001b[32m━━━━━━━━━━━━━━━━━━━━\u001b[0m\u001b[37m\u001b[0m \u001b[1m89s\u001b[0m 568ms/step - accuracy: 0.9756 - loss: 0.0935 - val_accuracy: 0.9655 - val_loss: 0.1703\n",
      "Test Accuracy with 8 trainable layers: 0.97\n"
     ]
    },
    {
     "data": {
      "image/png": "[encoded data removed]",
      "text/plain": [
       "<Figure size 800x600 with 1 Axes>"
      ]
     },
     "metadata": {},
     "output_type": "display_data"
    },
    {
     "name": "stdout",
     "output_type": "stream",
     "text": [
      "The optimal number of trainable layers for MNIST is: 8\n"
     ]
    }
   ],
   "source": [
    "small_train_images = X_train[:10000]  \n",
    "small_train_labels = Y_train[:10000]\n",
    "\n",
    "small_test_images = X_test[:2000]  \n",
    "small_test_labels = Y_test[:2000]\n",
    "\n",
    "trainable_layers = [0, 4, 8]  \n",
    "accuracy_results = []\n",
    "\n",
    "for fine_tune in trainable_layers:\n",
    "    print(f\"Training with {fine_tune} trainable layers...\")\n",
    "    \n",
    "    model = create_model(input_shape=input_shape, fine_tune=fine_tune)\n",
    "    model.compile(\n",
    "        optimizer=Adam(learning_rate=0.0001),\n",
    "        loss='categorical_crossentropy',\n",
    "        metrics=['accuracy']\n",
    "    )\n",
    "    \n",
    "    history = model.fit(\n",
    "        small_train_images, small_train_labels,\n",
    "        validation_data=(small_test_images, small_test_labels),\n",
    "        epochs=3,  \n",
    "        batch_size=64,\n",
    "        verbose=1\n",
    "    )\n",
    "    \n",
    "    test_loss, test_accuracy = model.evaluate(small_test_images, small_test_labels, verbose=0)\n",
    "    accuracy_results.append(test_accuracy)\n",
    "    print(f\"Test Accuracy with {fine_tune} trainable layers: {test_accuracy:.2f}\")\n",
    "\n",
    "plt.figure(figsize=(8, 6))\n",
    "plt.plot(trainable_layers, accuracy_results, marker='o')\n",
    "plt.title('MNIST Accuracy vs. Number of Trainable Layers (Optimized)')\n",
    "plt.xlabel('Number of Trainable Layers')\n",
    "plt.ylabel('Test Accuracy')\n",
    "plt.grid(True)\n",
    "plt.show()\n",
    "\n",
    "optimal_layers = trainable_layers[np.argmax(accuracy_results)]\n",
    "print(f\"The optimal number of trainable layers for MNIST is: {optimal_layers}\")"
   ]
  },
  {
   "cell_type": "markdown",
   "id": "f2c9b0e3-5647-40df-90a6-eda771a19d56",
   "metadata": {},
   "source": [
    "## 15"
   ]
  },
  {
   "cell_type": "markdown",
   "id": "2aadc7fc-3ea0-40a9-87ad-b657176b7aeb",
   "metadata": {},
   "source": [
    "### 15.1 - 1 Compute the derivative with respect to x"
   ]
  },
  {
   "cell_type": "code",
   "execution_count": 9,
   "id": "899d7647-10c8-484f-aac5-8e87c96407b1",
   "metadata": {},
   "outputs": [],
   "source": [
    "def f_der_x(x):\n",
    "    '''\n",
    "    Compute the derivative of f(x, y) with respect to x.\n",
    "    '''\n",
    "    return 2*x + 3  "
   ]
  },
  {
   "cell_type": "markdown",
   "id": "e7801e4e-ba55-4147-af6e-bf486be69102",
   "metadata": {},
   "source": [
    "### 15.1 - 2 Compute the derivative with respect to y"
   ]
  },
  {
   "cell_type": "code",
   "execution_count": 10,
   "id": "f3c00818-fa7a-47cd-912a-b82cf31ae584",
   "metadata": {},
   "outputs": [],
   "source": [
    "def f_der_y(y):\n",
    "    '''\n",
    "    Compute the derivative of f(x, y) with respect to y.\n",
    "    '''\n",
    "    return 2  "
   ]
  },
  {
   "cell_type": "markdown",
   "id": "3bfe1529-4977-4b1e-81b5-bdd2c2686734",
   "metadata": {},
   "source": [
    "### 15.1 - 3 Implement RMSProp"
   ]
  },
  {
   "cell_type": "code",
   "execution_count": 15,
   "id": "f0934dd1-cef1-4af9-a1da-81980f2aae74",
   "metadata": {},
   "outputs": [
    {
     "name": "stdout",
     "output_type": "stream",
     "text": [
      "Iteration = 1: x = 9.9776, y = -10.0224, f(x, y) = 109.4415\n",
      "Iteration = 2: x = 9.9610, y = -10.0390, f(x, y) = 109.0262\n",
      "Iteration = 3: x = 9.9467, y = -10.0533, f(x, y) = 108.6701\n",
      "Iteration = 4: x = 9.9337, y = -10.0664, f(x, y) = 108.3468\n",
      "Iteration = 5: x = 9.9215, y = -10.0786, f(x, y) = 108.0442\n",
      "Iteration = 6: x = 9.9099, y = -10.0902, f(x, y) = 107.7557\n",
      "Iteration = 7: x = 9.8987, y = -10.1014, f(x, y) = 107.4773\n",
      "Iteration = 8: x = 9.8878, y = -10.1124, f(x, y) = 107.2062\n",
      "Iteration = 9: x = 9.8770, y = -10.1232, f(x, y) = 106.9407\n",
      "Iteration = 10: x = 9.8665, y = -10.1337, f(x, y) = 106.6795\n",
      "Iteration = 11: x = 9.8561, y = -10.1442, f(x, y) = 106.4217\n",
      "Iteration = 12: x = 9.8457, y = -10.1546, f(x, y) = 106.1664\n",
      "Iteration = 13: x = 9.8355, y = -10.1648, f(x, y) = 105.9132\n",
      "Iteration = 14: x = 9.8253, y = -10.1751, f(x, y) = 105.6618\n",
      "Iteration = 15: x = 9.8151, y = -10.1853, f(x, y) = 105.4117\n",
      "Iteration = 16: x = 9.8050, y = -10.1954, f(x, y) = 105.1627\n",
      "Iteration = 17: x = 9.7949, y = -10.2055, f(x, y) = 104.9146\n",
      "Iteration = 18: x = 9.7849, y = -10.2156, f(x, y) = 104.6673\n",
      "Iteration = 19: x = 9.7748, y = -10.2257, f(x, y) = 104.4207\n",
      "Iteration = 20: x = 9.7648, y = -10.2357, f(x, y) = 104.1747\n",
      "Iteration = 21: x = 9.7548, y = -10.2458, f(x, y) = 103.9291\n",
      "Iteration = 22: x = 9.7448, y = -10.2558, f(x, y) = 103.6840\n",
      "Iteration = 23: x = 9.7348, y = -10.2658, f(x, y) = 103.4393\n",
      "Iteration = 24: x = 9.7248, y = -10.2759, f(x, y) = 103.1949\n",
      "Iteration = 25: x = 9.7148, y = -10.2859, f(x, y) = 102.9508\n",
      "Iteration = 26: x = 9.7049, y = -10.2959, f(x, y) = 102.7070\n",
      "Iteration = 27: x = 9.6949, y = -10.3059, f(x, y) = 102.4635\n",
      "Iteration = 28: x = 9.6849, y = -10.3159, f(x, y) = 102.2203\n",
      "Iteration = 29: x = 9.6749, y = -10.3259, f(x, y) = 101.9773\n",
      "Iteration = 30: x = 9.6650, y = -10.3359, f(x, y) = 101.7345\n",
      "Iteration = 31: x = 9.6550, y = -10.3459, f(x, y) = 101.4920\n",
      "Iteration = 32: x = 9.6450, y = -10.3559, f(x, y) = 101.2497\n",
      "Iteration = 33: x = 9.6351, y = -10.3660, f(x, y) = 101.0076\n",
      "Iteration = 34: x = 9.6251, y = -10.3760, f(x, y) = 100.7657\n",
      "Iteration = 35: x = 9.6151, y = -10.3860, f(x, y) = 100.5241\n",
      "Iteration = 36: x = 9.6052, y = -10.3960, f(x, y) = 100.2826\n",
      "Iteration = 37: x = 9.5952, y = -10.4060, f(x, y) = 100.0414\n",
      "Iteration = 38: x = 9.5852, y = -10.4160, f(x, y) = 99.8004\n",
      "Iteration = 39: x = 9.5753, y = -10.4260, f(x, y) = 99.5595\n",
      "Iteration = 40: x = 9.5653, y = -10.4360, f(x, y) = 99.3189\n",
      "Iteration = 41: x = 9.5553, y = -10.4460, f(x, y) = 99.0785\n",
      "Iteration = 42: x = 9.5454, y = -10.4560, f(x, y) = 98.8382\n",
      "Iteration = 43: x = 9.5354, y = -10.4660, f(x, y) = 98.5982\n",
      "Iteration = 44: x = 9.5254, y = -10.4760, f(x, y) = 98.3584\n",
      "Iteration = 45: x = 9.5155, y = -10.4860, f(x, y) = 98.1188\n",
      "Iteration = 46: x = 9.5055, y = -10.4960, f(x, y) = 97.8794\n",
      "Iteration = 47: x = 9.4955, y = -10.5060, f(x, y) = 97.6402\n",
      "Iteration = 48: x = 9.4856, y = -10.5160, f(x, y) = 97.4011\n",
      "Iteration = 49: x = 9.4756, y = -10.5260, f(x, y) = 97.1623\n",
      "Iteration = 50: x = 9.4657, y = -10.5360, f(x, y) = 96.9237\n",
      "Iteration = 51: x = 9.4557, y = -10.5460, f(x, y) = 96.6853\n",
      "Iteration = 52: x = 9.4457, y = -10.5560, f(x, y) = 96.4471\n",
      "Iteration = 53: x = 9.4358, y = -10.5660, f(x, y) = 96.2090\n",
      "Iteration = 54: x = 9.4258, y = -10.5760, f(x, y) = 95.9712\n",
      "Iteration = 55: x = 9.4158, y = -10.5860, f(x, y) = 95.7336\n",
      "Iteration = 56: x = 9.4059, y = -10.5960, f(x, y) = 95.4962\n",
      "Iteration = 57: x = 9.3959, y = -10.6060, f(x, y) = 95.2590\n",
      "Iteration = 58: x = 9.3859, y = -10.6160, f(x, y) = 95.0219\n",
      "Iteration = 59: x = 9.3760, y = -10.6260, f(x, y) = 94.7851\n",
      "Iteration = 60: x = 9.3660, y = -10.6360, f(x, y) = 94.5485\n",
      "Iteration = 61: x = 9.3561, y = -10.6460, f(x, y) = 94.3121\n",
      "Iteration = 62: x = 9.3461, y = -10.6560, f(x, y) = 94.0758\n",
      "Iteration = 63: x = 9.3361, y = -10.6660, f(x, y) = 93.8398\n",
      "Iteration = 64: x = 9.3262, y = -10.6760, f(x, y) = 93.6040\n",
      "Iteration = 65: x = 9.3162, y = -10.6860, f(x, y) = 93.3683\n",
      "Iteration = 66: x = 9.3062, y = -10.6960, f(x, y) = 93.1329\n",
      "Iteration = 67: x = 9.2963, y = -10.7060, f(x, y) = 92.8977\n",
      "Iteration = 68: x = 9.2863, y = -10.7160, f(x, y) = 92.6627\n",
      "Iteration = 69: x = 9.2764, y = -10.7260, f(x, y) = 92.4278\n",
      "Iteration = 70: x = 9.2664, y = -10.7360, f(x, y) = 92.1932\n",
      "Iteration = 71: x = 9.2564, y = -10.7460, f(x, y) = 91.9588\n",
      "Iteration = 72: x = 9.2465, y = -10.7560, f(x, y) = 91.7245\n",
      "Iteration = 73: x = 9.2365, y = -10.7660, f(x, y) = 91.4905\n",
      "Iteration = 74: x = 9.2265, y = -10.7760, f(x, y) = 91.2567\n",
      "Iteration = 75: x = 9.2166, y = -10.7860, f(x, y) = 91.0230\n",
      "Iteration = 76: x = 9.2066, y = -10.7960, f(x, y) = 90.7896\n",
      "Iteration = 77: x = 9.1966, y = -10.8060, f(x, y) = 90.5563\n",
      "Iteration = 78: x = 9.1867, y = -10.8160, f(x, y) = 90.3233\n",
      "Iteration = 79: x = 9.1767, y = -10.8260, f(x, y) = 90.0905\n",
      "Iteration = 80: x = 9.1668, y = -10.8360, f(x, y) = 89.8578\n",
      "Iteration = 81: x = 9.1568, y = -10.8460, f(x, y) = 89.6254\n",
      "Iteration = 82: x = 9.1468, y = -10.8560, f(x, y) = 89.3932\n",
      "Iteration = 83: x = 9.1369, y = -10.8660, f(x, y) = 89.1611\n",
      "Iteration = 84: x = 9.1269, y = -10.8760, f(x, y) = 88.9293\n",
      "Iteration = 85: x = 9.1169, y = -10.8860, f(x, y) = 88.6976\n",
      "Iteration = 86: x = 9.1070, y = -10.8960, f(x, y) = 88.4662\n",
      "Iteration = 87: x = 9.0970, y = -10.9060, f(x, y) = 88.2349\n",
      "Iteration = 88: x = 9.0871, y = -10.9160, f(x, y) = 88.0039\n",
      "Iteration = 89: x = 9.0771, y = -10.9260, f(x, y) = 87.7730\n",
      "Iteration = 90: x = 9.0671, y = -10.9360, f(x, y) = 87.5424\n",
      "Iteration = 91: x = 9.0572, y = -10.9460, f(x, y) = 87.3120\n",
      "Iteration = 92: x = 9.0472, y = -10.9560, f(x, y) = 87.0817\n",
      "Iteration = 93: x = 9.0372, y = -10.9660, f(x, y) = 86.8517\n",
      "Iteration = 94: x = 9.0273, y = -10.9760, f(x, y) = 86.6218\n",
      "Iteration = 95: x = 9.0173, y = -10.9860, f(x, y) = 86.3922\n",
      "Iteration = 96: x = 9.0074, y = -10.9960, f(x, y) = 86.1627\n",
      "Iteration = 97: x = 8.9974, y = -11.0060, f(x, y) = 85.9335\n",
      "Iteration = 98: x = 8.9874, y = -11.0160, f(x, y) = 85.7044\n",
      "Iteration = 99: x = 8.9775, y = -11.0260, f(x, y) = 85.4755\n",
      "Iteration = 100: x = 8.9675, y = -11.0360, f(x, y) = 85.2469\n"
     ]
    }
   ],
   "source": [
    "gamma = 0.8  \n",
    "lrate = 0.01 \n",
    "epsilon = 1e-8  \n",
    "\n",
    "gt_x = 0  \n",
    "gt_y = 0 \n",
    "\n",
    "x, y = 10.0, -10.0\n",
    "no_iterations = 100 \n",
    "\n",
    "for i in range(no_iterations):\n",
    "    grad_x = f_der_x(x) \n",
    "    grad_y = f_der_y(y) \n",
    "\n",
    "    gt_x = gamma * gt_x + (1 - gamma) * (grad_x ** 2)\n",
    "    gt_y = gamma * gt_y + (1 - gamma) * (grad_y ** 2)\n",
    "\n",
    "    x = x - (lrate / np.sqrt(gt_x + epsilon)) * grad_x\n",
    "    y = y - (lrate / np.sqrt(gt_y + epsilon)) * grad_y\n",
    "\n",
    "    print(f\"Iteration = {i + 1}: x = {x:.4f}, y = {y:.4f}, f(x, y) = {f(x, y):.4f}\")"
   ]
  },
  {
   "cell_type": "markdown",
   "id": "4e77ed5f-e70e-415e-955c-fb7caf3f0790",
   "metadata": {},
   "source": [
    "### 15.1) - 4 Show final x value and f value"
   ]
  },
  {
   "cell_type": "code",
   "execution_count": 14,
   "id": "7f3e21af-7e55-4339-b895-c2ac6860889d",
   "metadata": {},
   "outputs": [
    {
     "name": "stdout",
     "output_type": "stream",
     "text": [
      "\n",
      "Final values after 100 iterations:\n",
      "x = 8.9675, y = -11.0360, f(x, y) = 85.2469\n"
     ]
    }
   ],
   "source": [
    "print(f\"\\nFinal values after {no_iterations} iterations:\")\n",
    "print(f\"x = {x:.4f}, y = {y:.4f}, f(x, y) = {f(x, y):.4f}\")"
   ]
  },
  {
   "cell_type": "markdown",
   "id": "e7808288-ccc3-417b-b7b8-c4ea911b7f50",
   "metadata": {},
   "source": [
    "## 2) [bonus 4 pts] Add L2 regularization. You have to modify f, f_der_x, f-der_y functions."
   ]
  },
  {
   "cell_type": "code",
   "execution_count": 16,
   "id": "f2f5b217-8a7a-4de0-9e52-6de25659d8e8",
   "metadata": {},
   "outputs": [
    {
     "name": "stdout",
     "output_type": "stream",
     "text": [
      "Iteration = 1: x = 9.9776, y = -10.0224, f(x, y) = 119.4415\n",
      "Iteration = 2: x = 9.9610, y = -10.0390, f(x, y) = 119.0264\n",
      "Iteration = 3: x = 9.9467, y = -10.0533, f(x, y) = 118.6704\n",
      "Iteration = 4: x = 9.9337, y = -10.0663, f(x, y) = 118.3473\n",
      "Iteration = 5: x = 9.9215, y = -10.0785, f(x, y) = 118.0450\n",
      "Iteration = 6: x = 9.9099, y = -10.0901, f(x, y) = 117.7568\n",
      "Iteration = 7: x = 9.8987, y = -10.1013, f(x, y) = 117.4786\n",
      "Iteration = 8: x = 9.8878, y = -10.1122, f(x, y) = 117.2079\n",
      "Iteration = 9: x = 9.8770, y = -10.1229, f(x, y) = 116.9427\n",
      "Iteration = 10: x = 9.8665, y = -10.1335, f(x, y) = 116.6818\n",
      "Iteration = 11: x = 9.8561, y = -10.1439, f(x, y) = 116.4243\n",
      "Iteration = 12: x = 9.8457, y = -10.1542, f(x, y) = 116.1694\n",
      "Iteration = 13: x = 9.8355, y = -10.1645, f(x, y) = 115.9167\n",
      "Iteration = 14: x = 9.8253, y = -10.1747, f(x, y) = 115.6656\n",
      "Iteration = 15: x = 9.8151, y = -10.1848, f(x, y) = 115.4160\n",
      "Iteration = 16: x = 9.8050, y = -10.1949, f(x, y) = 115.1674\n",
      "Iteration = 17: x = 9.7949, y = -10.2050, f(x, y) = 114.9199\n",
      "Iteration = 18: x = 9.7849, y = -10.2150, f(x, y) = 114.6731\n",
      "Iteration = 19: x = 9.7748, y = -10.2251, f(x, y) = 114.4270\n",
      "Iteration = 20: x = 9.7648, y = -10.2351, f(x, y) = 114.1815\n",
      "Iteration = 21: x = 9.7548, y = -10.2451, f(x, y) = 113.9365\n",
      "Iteration = 22: x = 9.7448, y = -10.2551, f(x, y) = 113.6919\n",
      "Iteration = 23: x = 9.7348, y = -10.2651, f(x, y) = 113.4478\n",
      "Iteration = 24: x = 9.7248, y = -10.2751, f(x, y) = 113.2040\n",
      "Iteration = 25: x = 9.7148, y = -10.2851, f(x, y) = 112.9606\n",
      "Iteration = 26: x = 9.7049, y = -10.2950, f(x, y) = 112.7175\n",
      "Iteration = 27: x = 9.6949, y = -10.3050, f(x, y) = 112.4746\n",
      "Iteration = 28: x = 9.6849, y = -10.3150, f(x, y) = 112.2321\n",
      "Iteration = 29: x = 9.6749, y = -10.3249, f(x, y) = 111.9898\n",
      "Iteration = 30: x = 9.6650, y = -10.3349, f(x, y) = 111.7478\n",
      "Iteration = 31: x = 9.6550, y = -10.3449, f(x, y) = 111.5060\n",
      "Iteration = 32: x = 9.6450, y = -10.3548, f(x, y) = 111.2645\n",
      "Iteration = 33: x = 9.6351, y = -10.3648, f(x, y) = 111.0232\n",
      "Iteration = 34: x = 9.6251, y = -10.3747, f(x, y) = 110.7822\n",
      "Iteration = 35: x = 9.6151, y = -10.3847, f(x, y) = 110.5414\n",
      "Iteration = 36: x = 9.6052, y = -10.3947, f(x, y) = 110.3008\n",
      "Iteration = 37: x = 9.5952, y = -10.4046, f(x, y) = 110.0604\n",
      "Iteration = 38: x = 9.5852, y = -10.4146, f(x, y) = 109.8203\n",
      "Iteration = 39: x = 9.5753, y = -10.4245, f(x, y) = 109.5804\n",
      "Iteration = 40: x = 9.5653, y = -10.4345, f(x, y) = 109.3407\n",
      "Iteration = 41: x = 9.5553, y = -10.4445, f(x, y) = 109.1012\n",
      "Iteration = 42: x = 9.5454, y = -10.4544, f(x, y) = 108.8620\n",
      "Iteration = 43: x = 9.5354, y = -10.4644, f(x, y) = 108.6229\n",
      "Iteration = 44: x = 9.5254, y = -10.4743, f(x, y) = 108.3841\n",
      "Iteration = 45: x = 9.5155, y = -10.4843, f(x, y) = 108.1456\n",
      "Iteration = 46: x = 9.5055, y = -10.4943, f(x, y) = 107.9072\n",
      "Iteration = 47: x = 9.4956, y = -10.5042, f(x, y) = 107.6691\n",
      "Iteration = 48: x = 9.4856, y = -10.5142, f(x, y) = 107.4311\n",
      "Iteration = 49: x = 9.4756, y = -10.5241, f(x, y) = 107.1934\n",
      "Iteration = 50: x = 9.4657, y = -10.5341, f(x, y) = 106.9560\n",
      "Iteration = 51: x = 9.4557, y = -10.5441, f(x, y) = 106.7187\n",
      "Iteration = 52: x = 9.4457, y = -10.5540, f(x, y) = 106.4817\n",
      "Iteration = 53: x = 9.4358, y = -10.5640, f(x, y) = 106.2448\n",
      "Iteration = 54: x = 9.4258, y = -10.5739, f(x, y) = 106.0082\n",
      "Iteration = 55: x = 9.4158, y = -10.5839, f(x, y) = 105.7719\n",
      "Iteration = 56: x = 9.4059, y = -10.5938, f(x, y) = 105.5357\n",
      "Iteration = 57: x = 9.3959, y = -10.6038, f(x, y) = 105.2997\n",
      "Iteration = 58: x = 9.3860, y = -10.6138, f(x, y) = 105.0640\n",
      "Iteration = 59: x = 9.3760, y = -10.6237, f(x, y) = 104.8285\n",
      "Iteration = 60: x = 9.3660, y = -10.6337, f(x, y) = 104.5932\n",
      "Iteration = 61: x = 9.3561, y = -10.6436, f(x, y) = 104.3582\n",
      "Iteration = 62: x = 9.3461, y = -10.6536, f(x, y) = 104.1233\n",
      "Iteration = 63: x = 9.3361, y = -10.6635, f(x, y) = 103.8887\n",
      "Iteration = 64: x = 9.3262, y = -10.6735, f(x, y) = 103.6543\n",
      "Iteration = 65: x = 9.3162, y = -10.6835, f(x, y) = 103.4201\n",
      "Iteration = 66: x = 9.3063, y = -10.6934, f(x, y) = 103.1861\n",
      "Iteration = 67: x = 9.2963, y = -10.7034, f(x, y) = 102.9523\n",
      "Iteration = 68: x = 9.2863, y = -10.7133, f(x, y) = 102.7188\n",
      "Iteration = 69: x = 9.2764, y = -10.7233, f(x, y) = 102.4855\n",
      "Iteration = 70: x = 9.2664, y = -10.7332, f(x, y) = 102.2524\n",
      "Iteration = 71: x = 9.2564, y = -10.7432, f(x, y) = 102.0195\n",
      "Iteration = 72: x = 9.2465, y = -10.7532, f(x, y) = 101.7869\n",
      "Iteration = 73: x = 9.2365, y = -10.7631, f(x, y) = 101.5544\n",
      "Iteration = 74: x = 9.2266, y = -10.7731, f(x, y) = 101.3222\n",
      "Iteration = 75: x = 9.2166, y = -10.7830, f(x, y) = 101.0902\n",
      "Iteration = 76: x = 9.2066, y = -10.7930, f(x, y) = 100.8584\n",
      "Iteration = 77: x = 9.1967, y = -10.8029, f(x, y) = 100.6269\n",
      "Iteration = 78: x = 9.1867, y = -10.8129, f(x, y) = 100.3955\n",
      "Iteration = 79: x = 9.1767, y = -10.8229, f(x, y) = 100.1644\n",
      "Iteration = 80: x = 9.1668, y = -10.8328, f(x, y) = 99.9335\n",
      "Iteration = 81: x = 9.1568, y = -10.8428, f(x, y) = 99.7028\n",
      "Iteration = 82: x = 9.1469, y = -10.8527, f(x, y) = 99.4723\n",
      "Iteration = 83: x = 9.1369, y = -10.8627, f(x, y) = 99.2421\n",
      "Iteration = 84: x = 9.1269, y = -10.8726, f(x, y) = 99.0121\n",
      "Iteration = 85: x = 9.1170, y = -10.8826, f(x, y) = 98.7823\n",
      "Iteration = 86: x = 9.1070, y = -10.8926, f(x, y) = 98.5527\n",
      "Iteration = 87: x = 9.0970, y = -10.9025, f(x, y) = 98.3233\n",
      "Iteration = 88: x = 9.0871, y = -10.9125, f(x, y) = 98.0942\n",
      "Iteration = 89: x = 9.0771, y = -10.9224, f(x, y) = 97.8652\n",
      "Iteration = 90: x = 9.0672, y = -10.9324, f(x, y) = 97.6365\n",
      "Iteration = 91: x = 9.0572, y = -10.9423, f(x, y) = 97.4080\n",
      "Iteration = 92: x = 9.0472, y = -10.9523, f(x, y) = 97.1797\n",
      "Iteration = 93: x = 9.0373, y = -10.9622, f(x, y) = 96.9517\n",
      "Iteration = 94: x = 9.0273, y = -10.9722, f(x, y) = 96.7239\n",
      "Iteration = 95: x = 9.0173, y = -10.9822, f(x, y) = 96.4962\n",
      "Iteration = 96: x = 9.0074, y = -10.9921, f(x, y) = 96.2688\n",
      "Iteration = 97: x = 8.9974, y = -11.0021, f(x, y) = 96.0417\n",
      "Iteration = 98: x = 8.9875, y = -11.0120, f(x, y) = 95.8147\n",
      "Iteration = 99: x = 8.9775, y = -11.0220, f(x, y) = 95.5880\n",
      "Iteration = 100: x = 8.9675, y = -11.0319, f(x, y) = 95.3614\n",
      "\n",
      "Final values after 100 iterations:\n",
      "x = 8.9675, y = -11.0319, f(x, y) = 95.3614\n"
     ]
    }
   ],
   "source": [
    "import numpy as np\n",
    "\n",
    "lmbda = 0.1 \n",
    "\n",
    "def f(x, y):\n",
    "    return x**2 + 2*y + 3*x + (lmbda / 2) * (x**2 + y**2)\n",
    "\n",
    "def f_der_x(x):\n",
    "    return 2*x + 3 + lmbda * x\n",
    "\n",
    "def f_der_y(y):\n",
    "    return 2 + lmbda * y\n",
    "\n",
    "gamma = 0.8  \n",
    "lrate = 0.01  \n",
    "epsilon = 1e-8  \n",
    "\n",
    "gt_x = 0  \n",
    "gt_y = 0  \n",
    "\n",
    "x, y = 10.0, -10.0\n",
    "no_iterations = 100  \n",
    "\n",
    "for i in range(no_iterations):\n",
    "    grad_x = f_der_x(x)  \n",
    "    grad_y = f_der_y(y)  \n",
    "\n",
    "    gt_x = gamma * gt_x + (1 - gamma) * (grad_x ** 2)\n",
    "    gt_y = gamma * gt_y + (1 - gamma) * (grad_y ** 2)\n",
    "\n",
    "    x = x - (lrate / np.sqrt(gt_x + epsilon)) * grad_x\n",
    "    y = y - (lrate / np.sqrt(gt_y + epsilon)) * grad_y\n",
    "\n",
    "    print(f\"Iteration = {i + 1}: x = {x:.4f}, y = {y:.4f}, f(x, y) = {f(x, y):.4f}\")\n",
    "\n",
    "print(f\"\\nFinal values after {no_iterations} iterations:\")\n",
    "print(f\"x = {x:.4f}, y = {y:.4f}, f(x, y) = {f(x, y):.4f}\")"
   ]
  },
  {
   "cell_type": "markdown",
   "id": "41a9523b-24d0-4df1-9bf0-2da8ad43c61e",
   "metadata": {},
   "source": [
    "### 3) [bonus 8 pts] Implement AdaDelta. You have to define the following S_t and modify the update rule."
   ]
  },
  {
   "cell_type": "code",
   "execution_count": 17,
   "id": "9a21725f-5692-49f1-aac2-563a71929e3c",
   "metadata": {},
   "outputs": [
    {
     "name": "stdout",
     "output_type": "stream",
     "text": [
      "Iteration = 1: x = 9.9998, y = -10.0002, f(x, y) = 109.9944\n",
      "Iteration = 2: x = 9.9995, y = -10.0005, f(x, y) = 109.9885\n",
      "Iteration = 3: x = 9.9993, y = -10.0007, f(x, y) = 109.9824\n",
      "Iteration = 4: x = 9.9990, y = -10.0010, f(x, y) = 109.9761\n",
      "Iteration = 5: x = 9.9988, y = -10.0012, f(x, y) = 109.9697\n",
      "Iteration = 6: x = 9.9985, y = -10.0015, f(x, y) = 109.9632\n",
      "Iteration = 7: x = 9.9983, y = -10.0017, f(x, y) = 109.9565\n",
      "Iteration = 8: x = 9.9980, y = -10.0020, f(x, y) = 109.9497\n",
      "Iteration = 9: x = 9.9977, y = -10.0023, f(x, y) = 109.9428\n",
      "Iteration = 10: x = 9.9974, y = -10.0026, f(x, y) = 109.9358\n",
      "Iteration = 11: x = 9.9971, y = -10.0029, f(x, y) = 109.9287\n",
      "Iteration = 12: x = 9.9969, y = -10.0031, f(x, y) = 109.9216\n",
      "Iteration = 13: x = 9.9966, y = -10.0034, f(x, y) = 109.9143\n",
      "Iteration = 14: x = 9.9963, y = -10.0037, f(x, y) = 109.9069\n",
      "Iteration = 15: x = 9.9960, y = -10.0040, f(x, y) = 109.8995\n",
      "Iteration = 16: x = 9.9957, y = -10.0043, f(x, y) = 109.8919\n",
      "Iteration = 17: x = 9.9954, y = -10.0046, f(x, y) = 109.8843\n",
      "Iteration = 18: x = 9.9951, y = -10.0049, f(x, y) = 109.8766\n",
      "Iteration = 19: x = 9.9948, y = -10.0052, f(x, y) = 109.8689\n",
      "Iteration = 20: x = 9.9944, y = -10.0056, f(x, y) = 109.8610\n",
      "Iteration = 21: x = 9.9941, y = -10.0059, f(x, y) = 109.8530\n",
      "Iteration = 22: x = 9.9938, y = -10.0062, f(x, y) = 109.8450\n",
      "Iteration = 23: x = 9.9935, y = -10.0065, f(x, y) = 109.8369\n",
      "Iteration = 24: x = 9.9931, y = -10.0069, f(x, y) = 109.8288\n",
      "Iteration = 25: x = 9.9928, y = -10.0072, f(x, y) = 109.8205\n",
      "Iteration = 26: x = 9.9925, y = -10.0075, f(x, y) = 109.8122\n",
      "Iteration = 27: x = 9.9921, y = -10.0079, f(x, y) = 109.8038\n",
      "Iteration = 28: x = 9.9918, y = -10.0082, f(x, y) = 109.7953\n",
      "Iteration = 29: x = 9.9915, y = -10.0085, f(x, y) = 109.7868\n",
      "Iteration = 30: x = 9.9911, y = -10.0089, f(x, y) = 109.7782\n",
      "Iteration = 31: x = 9.9908, y = -10.0092, f(x, y) = 109.7695\n",
      "Iteration = 32: x = 9.9904, y = -10.0096, f(x, y) = 109.7607\n",
      "Iteration = 33: x = 9.9901, y = -10.0099, f(x, y) = 109.7519\n",
      "Iteration = 34: x = 9.9897, y = -10.0103, f(x, y) = 109.7430\n",
      "Iteration = 35: x = 9.9894, y = -10.0106, f(x, y) = 109.7340\n",
      "Iteration = 36: x = 9.9890, y = -10.0110, f(x, y) = 109.7250\n",
      "Iteration = 37: x = 9.9886, y = -10.0114, f(x, y) = 109.7158\n",
      "Iteration = 38: x = 9.9883, y = -10.0117, f(x, y) = 109.7067\n",
      "Iteration = 39: x = 9.9879, y = -10.0121, f(x, y) = 109.6974\n",
      "Iteration = 40: x = 9.9875, y = -10.0125, f(x, y) = 109.6881\n",
      "Iteration = 41: x = 9.9871, y = -10.0129, f(x, y) = 109.6787\n",
      "Iteration = 42: x = 9.9868, y = -10.0132, f(x, y) = 109.6693\n",
      "Iteration = 43: x = 9.9864, y = -10.0136, f(x, y) = 109.6598\n",
      "Iteration = 44: x = 9.9860, y = -10.0140, f(x, y) = 109.6502\n",
      "Iteration = 45: x = 9.9856, y = -10.0144, f(x, y) = 109.6406\n",
      "Iteration = 46: x = 9.9852, y = -10.0148, f(x, y) = 109.6309\n",
      "Iteration = 47: x = 9.9848, y = -10.0152, f(x, y) = 109.6211\n",
      "Iteration = 48: x = 9.9844, y = -10.0156, f(x, y) = 109.6113\n",
      "Iteration = 49: x = 9.9840, y = -10.0160, f(x, y) = 109.6014\n",
      "Iteration = 50: x = 9.9836, y = -10.0164, f(x, y) = 109.5915\n",
      "Iteration = 51: x = 9.9832, y = -10.0168, f(x, y) = 109.5814\n",
      "Iteration = 52: x = 9.9828, y = -10.0172, f(x, y) = 109.5714\n",
      "Iteration = 53: x = 9.9824, y = -10.0176, f(x, y) = 109.5612\n",
      "Iteration = 54: x = 9.9820, y = -10.0180, f(x, y) = 109.5510\n",
      "Iteration = 55: x = 9.9816, y = -10.0184, f(x, y) = 109.5408\n",
      "Iteration = 56: x = 9.9812, y = -10.0188, f(x, y) = 109.5305\n",
      "Iteration = 57: x = 9.9808, y = -10.0192, f(x, y) = 109.5201\n",
      "Iteration = 58: x = 9.9804, y = -10.0196, f(x, y) = 109.5096\n",
      "Iteration = 59: x = 9.9800, y = -10.0201, f(x, y) = 109.4992\n",
      "Iteration = 60: x = 9.9795, y = -10.0205, f(x, y) = 109.4886\n",
      "Iteration = 61: x = 9.9791, y = -10.0209, f(x, y) = 109.4780\n",
      "Iteration = 62: x = 9.9787, y = -10.0213, f(x, y) = 109.4673\n",
      "Iteration = 63: x = 9.9782, y = -10.0218, f(x, y) = 109.4566\n",
      "Iteration = 64: x = 9.9778, y = -10.0222, f(x, y) = 109.4458\n",
      "Iteration = 65: x = 9.9774, y = -10.0226, f(x, y) = 109.4350\n",
      "Iteration = 66: x = 9.9769, y = -10.0231, f(x, y) = 109.4241\n",
      "Iteration = 67: x = 9.9765, y = -10.0235, f(x, y) = 109.4131\n",
      "Iteration = 68: x = 9.9761, y = -10.0240, f(x, y) = 109.4021\n",
      "Iteration = 69: x = 9.9756, y = -10.0244, f(x, y) = 109.3910\n",
      "Iteration = 70: x = 9.9752, y = -10.0248, f(x, y) = 109.3799\n",
      "Iteration = 71: x = 9.9747, y = -10.0253, f(x, y) = 109.3687\n",
      "Iteration = 72: x = 9.9743, y = -10.0257, f(x, y) = 109.3575\n",
      "Iteration = 73: x = 9.9738, y = -10.0262, f(x, y) = 109.3462\n",
      "Iteration = 74: x = 9.9734, y = -10.0266, f(x, y) = 109.3349\n",
      "Iteration = 75: x = 9.9729, y = -10.0271, f(x, y) = 109.3235\n",
      "Iteration = 76: x = 9.9725, y = -10.0276, f(x, y) = 109.3120\n",
      "Iteration = 77: x = 9.9720, y = -10.0280, f(x, y) = 109.3005\n",
      "Iteration = 78: x = 9.9715, y = -10.0285, f(x, y) = 109.2890\n",
      "Iteration = 79: x = 9.9711, y = -10.0290, f(x, y) = 109.2774\n",
      "Iteration = 80: x = 9.9706, y = -10.0294, f(x, y) = 109.2657\n",
      "Iteration = 81: x = 9.9701, y = -10.0299, f(x, y) = 109.2540\n",
      "Iteration = 82: x = 9.9697, y = -10.0304, f(x, y) = 109.2422\n",
      "Iteration = 83: x = 9.9692, y = -10.0308, f(x, y) = 109.2304\n",
      "Iteration = 84: x = 9.9687, y = -10.0313, f(x, y) = 109.2186\n",
      "Iteration = 85: x = 9.9682, y = -10.0318, f(x, y) = 109.2066\n",
      "Iteration = 86: x = 9.9677, y = -10.0323, f(x, y) = 109.1947\n",
      "Iteration = 87: x = 9.9673, y = -10.0328, f(x, y) = 109.1826\n",
      "Iteration = 88: x = 9.9668, y = -10.0332, f(x, y) = 109.1706\n",
      "Iteration = 89: x = 9.9663, y = -10.0337, f(x, y) = 109.1585\n",
      "Iteration = 90: x = 9.9658, y = -10.0342, f(x, y) = 109.1463\n",
      "Iteration = 91: x = 9.9653, y = -10.0347, f(x, y) = 109.1341\n",
      "Iteration = 92: x = 9.9648, y = -10.0352, f(x, y) = 109.1218\n",
      "Iteration = 93: x = 9.9643, y = -10.0357, f(x, y) = 109.1095\n",
      "Iteration = 94: x = 9.9638, y = -10.0362, f(x, y) = 109.0971\n",
      "Iteration = 95: x = 9.9633, y = -10.0367, f(x, y) = 109.0847\n",
      "Iteration = 96: x = 9.9628, y = -10.0372, f(x, y) = 109.0722\n",
      "Iteration = 97: x = 9.9623, y = -10.0377, f(x, y) = 109.0597\n",
      "Iteration = 98: x = 9.9618, y = -10.0382, f(x, y) = 109.0471\n",
      "Iteration = 99: x = 9.9613, y = -10.0387, f(x, y) = 109.0345\n",
      "Iteration = 100: x = 9.9608, y = -10.0392, f(x, y) = 109.0218\n",
      "\n",
      "Final values after 100 iterations:\n",
      "x = 9.9608, y = -10.0392, f(x, y) = 109.0218\n"
     ]
    }
   ],
   "source": [
    "import numpy as np\n",
    "\n",
    "def f(x, y):\n",
    "    return x**2 + 2*y + 3*x\n",
    "\n",
    "def f_der_x(x):\n",
    "    return 2*x + 3  \n",
    "\n",
    "def f_der_y(y):\n",
    "    return 2  \n",
    "\n",
    "gamma = 0.8  \n",
    "epsilon = 1e-8  \n",
    "\n",
    "gt_x = 0  \n",
    "gt_y = 0  \n",
    "st_x = 0  \n",
    "st_y = 0  \n",
    "\n",
    "x, y = 10.0, -10.0\n",
    "no_iterations = 100\n",
    "\n",
    "for i in range(no_iterations):\n",
    "    grad_x = f_der_x(x)\n",
    "    grad_y = f_der_y(y)\n",
    "\n",
    "    gt_x = gamma * gt_x + (1 - gamma) * (grad_x ** 2)\n",
    "    gt_y = gamma * gt_y + (1 - gamma) * (grad_y ** 2)\n",
    "\n",
    "    delta_x = - (np.sqrt(st_x + epsilon) / np.sqrt(gt_x + epsilon)) * grad_x\n",
    "    delta_y = - (np.sqrt(st_y + epsilon) / np.sqrt(gt_y + epsilon)) * grad_y\n",
    "\n",
    "    st_x = gamma * st_x + (1 - gamma) * (delta_x ** 2)\n",
    "    st_y = gamma * st_y + (1 - gamma) * (delta_y ** 2)\n",
    "\n",
    "    x += delta_x\n",
    "    y += delta_y\n",
    "\n",
    "    print(f\"Iteration = {i + 1}: x = {x:.4f}, y = {y:.4f}, f(x, y) = {f(x, y):.4f}\")\n",
    "\n",
    "print(f\"\\nFinal values after {no_iterations} iterations:\")\n",
    "print(f\"x = {x:.4f}, y = {y:.4f}, f(x, y) = {f(x, y):.4f}\")"
   ]
  },
  {
   "cell_type": "markdown",
   "id": "472d0b10-3dc0-4f88-9322-e70f9af1398b",
   "metadata": {},
   "source": [
    "## 16 (coding) Bayesian optimization"
   ]
  },
  {
   "cell_type": "markdown",
   "id": "a40951e2-2a39-48f4-a600-b68a1b0120a0",
   "metadata": {},
   "source": [
    "#### 16.1) - 1"
   ]
  },
  {
   "cell_type": "code",
   "execution_count": 34,
   "id": "22931f94-3166-4469-a94f-b09fb1bf3f6f",
   "metadata": {},
   "outputs": [],
   "source": [
    "import numpy as np\n",
    "\n",
    "def rbf_kernel(X1, X2, lambda_=1.0):\n",
    "    '''\n",
    "    Compute the RBF (Gaussian) kernel matrix.\n",
    "    X1: numpy array of shape (n,) or (n, 1)\n",
    "    X2: numpy array of shape (m,) or (m, 1)\n",
    "    lambda_: float, kernel coefficient for RBF\n",
    "    Returns:\n",
    "    K: numpy array of shape (n, m)\n",
    "    '''\n",
    "    X1 = np.atleast_2d(X1)\n",
    "    X2 = np.atleast_2d(X2)\n",
    "\n",
    "    sq_dist = np.sum(X1**2, axis=1).reshape(-1, 1) + np.sum(X2**2, axis=1) - 2 * np.dot(X1, X2.T)\n",
    "    \n",
    "    K = np.exp(-lambda_ * sq_dist)\n",
    "\n",
    "    return K"
   ]
  },
  {
   "cell_type": "code",
   "execution_count": 35,
   "id": "901f61f1-70ae-4e0a-98d7-5a1207d9a9fd",
   "metadata": {},
   "outputs": [
    {
     "name": "stdout",
     "output_type": "stream",
     "text": [
      "RBF Kernel Matrix:\n",
      " [[1.         0.36787944]\n",
      " [0.36787944 1.        ]\n",
      " [0.01831564 0.36787944]]\n"
     ]
    }
   ],
   "source": [
    "X1 = np.array([[1], [2], [3]])\n",
    "X2 = np.array([[1], [2]])\n",
    "\n",
    "K = rbf_kernel(X1, X2, lambda_=1.0)\n",
    "print(\"RBF Kernel Matrix:\\n\", K)"
   ]
  },
  {
   "cell_type": "markdown",
   "id": "880991a0-bb16-431c-8941-126b0e5d6c5b",
   "metadata": {},
   "source": [
    "#### 16.1) - 2"
   ]
  },
  {
   "cell_type": "code",
   "execution_count": 41,
   "id": "7e3cbb39-57dd-4a80-baa2-4252576a9c1c",
   "metadata": {},
   "outputs": [],
   "source": [
    "import numpy as np\n",
    "\n",
    "def rbf_kernel(X1, X2, lambda_=1.0):\n",
    "    '''\n",
    "    Compute the RBF kernel matrix.\n",
    "    X1: numpy array of shape (n,) or (n, 1)\n",
    "    X2: numpy array of shape (m,) or (m, 1)\n",
    "    lambda_: float, kernel coefficient for RBF\n",
    "    Returns:\n",
    "    K: numpy array of shape (n, m)\n",
    "    '''\n",
    "    X1 = np.atleast_2d(X1)\n",
    "    X2 = np.atleast_2d(X2)\n",
    "    sq_dist = np.sum(X1**2, axis=1).reshape(-1, 1) + np.sum(X2**2, axis=1) - 2 * np.dot(X1, X2.T)\n",
    "    K = np.exp(-lambda_ * sq_dist)\n",
    "    return K\n",
    "\n",
    "def gaussian_regression(X_train, y_train, X_test, lambda_=1.0):\n",
    "    '''\n",
    "    Perform Gaussian Process Regression.\n",
    "    X_train: numpy array of shape (n,)\n",
    "    y_train: numpy array of shape (n,)\n",
    "    X_test: numpy array of shape (m,)\n",
    "    lambda_: float, kernel coefficient for RBF\n",
    "    Returns:\n",
    "    mu: numpy array of shape (m,) - mean of X_test\n",
    "    cov: numpy array of shape (m, m) - covariance of X_test\n",
    "    '''\n",
    "    K_train_train = rbf_kernel(X_train, X_train, lambda_)\n",
    "    \n",
    "    K_train_train += 1e-8 * np.eye(K_train_train.shape[0])\n",
    "    \n",
    "    K_train_train_inv = np.linalg.inv(K_train_train)\n",
    "    \n",
    "    K_test_train = rbf_kernel(X_test, X_train, lambda_)\n",
    "    \n",
    "    K_test_test = rbf_kernel(X_test, X_test, lambda_)\n",
    "    \n",
    "    mu = np.dot(np.dot(K_test_train, K_train_train_inv), y_train)\n",
    "    \n",
    "    cov = K_test_test - np.dot(np.dot(K_test_train, K_train_train_inv), K_test_train.T)\n",
    "    \n",
    "    return mu, cov"
   ]
  },
  {
   "cell_type": "code",
   "execution_count": 42,
   "id": "22757a4e-26c2-4559-b6dc-728c61dcd376",
   "metadata": {},
   "outputs": [
    {
     "name": "stdout",
     "output_type": "stream",
     "text": [
      "Posterior Mean (mu): [-0.39531447 -0.84839354]\n",
      "Posterior Covariance (cov): [[ 0.67019454 -0.20890632]\n",
      " [-0.20890632  0.2692626 ]]\n"
     ]
    }
   ],
   "source": [
    "X_train = np.array([[1], [3], [5], [6], [7], [8]])\n",
    "y_train = np.cos(X_train).ravel()  # True function: cosine\n",
    "\n",
    "X_test = np.array([[2.2], [3.4]])\n",
    "\n",
    "mu, cov = gaussian_regression(X_train, y_train, X_test, lambda_=1.0)\n",
    "\n",
    "print(\"Posterior Mean (mu):\", mu)\n",
    "print(\"Posterior Covariance (cov):\", cov)"
   ]
  },
  {
   "cell_type": "markdown",
   "id": "82d0cd86-6909-4d5b-86b0-af790953964f",
   "metadata": {},
   "source": [
    "#### 16.1) - 3"
   ]
  },
  {
   "cell_type": "code",
   "execution_count": 43,
   "id": "956d18cf-8a59-4d8f-842e-7d414c538be2",
   "metadata": {},
   "outputs": [
    {
     "name": "stdout",
     "output_type": "stream",
     "text": [
      "Posterior Mean (mu): [-0.39531447]\n",
      "Posterior Covariance (cov): [[0.67019454]]\n",
      "Standard Deviation (s.d.): [0.8186541]\n"
     ]
    }
   ],
   "source": [
    "def true_function(X):\n",
    "    return np.cos(X)\n",
    "\n",
    "X_train = np.array([[1], [3], [5], [6], [7], [8]])\n",
    "y_train = true_function(X_train).ravel()\n",
    "\n",
    "X_test = np.array([[2.2]])\n",
    "\n",
    "mu, cov = gaussian_regression(X_train, y_train, X_test, lambda_=1.0)\n",
    "\n",
    "std_dev = np.sqrt(np.diag(cov))\n",
    "\n",
    "print(\"Posterior Mean (mu):\", mu)\n",
    "print(\"Posterior Covariance (cov):\", cov)\n",
    "print(\"Standard Deviation (s.d.):\", std_dev)"
   ]
  },
  {
   "cell_type": "markdown",
   "id": "9a7ce971-7c07-4231-8b89-e6213cd81c92",
   "metadata": {},
   "source": [
    "### 2) [4 pts] Now change X_test to X_test=np.array([[3.4]]). Compute mean and s.d. of X_test=3.4."
   ]
  },
  {
   "cell_type": "code",
   "execution_count": 44,
   "id": "52c7baa3-91f3-4c0f-949b-312316fa1667",
   "metadata": {},
   "outputs": [
    {
     "name": "stdout",
     "output_type": "stream",
     "text": [
      "Posterior Mean (mu) for X_test=3.4: [-0.84839354]\n",
      "Posterior Covariance (cov) for X_test=3.4: [[0.2692626]]\n",
      "Standard Deviation (s.d.) for X_test=3.4: [0.51890519]\n"
     ]
    }
   ],
   "source": [
    "X_test = np.array([[3.4]])\n",
    "\n",
    "mu, cov = gaussian_regression(X_train, y_train, X_test, lambda_=1.0)\n",
    "\n",
    "std_dev = np.sqrt(np.diag(cov))\n",
    "\n",
    "print(\"Posterior Mean (mu) for X_test=3.4:\", mu)\n",
    "print(\"Posterior Covariance (cov) for X_test=3.4:\", cov)\n",
    "print(\"Standard Deviation (s.d.) for X_test=3.4:\", std_dev)"
   ]
  },
  {
   "cell_type": "markdown",
   "id": "5ece7b8c-81ba-4712-aa32-408f66babb27",
   "metadata": {},
   "source": [
    "### 3) [6 pts] Now X_test=np.array([[2.2]]) is changed as follows.\n",
    "X_test = np.linspace(0, 10, 10).reshape(-1, 1)\n",
    "By using Gaussian regression, show the mean value vector μ^* and s.d. vector for X_test, respectively.\n"
   ]
  },
  {
   "cell_type": "code",
   "execution_count": 45,
   "id": "f424d035-f114-4af2-a784-6def4ac21751",
   "metadata": {},
   "outputs": [
    {
     "name": "stdout",
     "output_type": "stream",
     "text": [
      "Posterior Mean (mu) for X_test:\n",
      " [ 0.2053855   0.52354139 -0.42107868 -0.89106394 -0.04178241  0.68955858\n",
      "  0.96515623  0.00303554 -0.15922712 -0.00707273]\n",
      "\n",
      "Posterior Standard Deviation (s.d.) for X_test:\n",
      " [0.92984995 0.15584113 0.80971013 0.44347726 0.63660947 0.3019603\n",
      " 0.25098224 0.21292783 0.87663816 0.99980301]\n"
     ]
    }
   ],
   "source": [
    "X_test = np.linspace(0, 10, 10).reshape(-1, 1)\n",
    "\n",
    "mu, cov = gaussian_regression(X_train, y_train, X_test, lambda_=1.0)\n",
    "\n",
    "std_dev = np.sqrt(np.diag(cov))\n",
    "\n",
    "print(\"Posterior Mean (mu) for X_test:\\n\", mu)\n",
    "print(\"\\nPosterior Standard Deviation (s.d.) for X_test:\\n\", std_dev)"
   ]
  },
  {
   "cell_type": "markdown",
   "id": "f2b345b2-aa75-4025-9cb4-f68c6af9c7b8",
   "metadata": {},
   "source": [
    "### 4) [4 pts] After Q. 3) is finished, at the end of the program, run the following and show the Gaussian distribution of error function."
   ]
  },
  {
   "cell_type": "code",
   "execution_count": 46,
   "id": "43d40317-fea8-4028-9b23-bcfed90d172c",
   "metadata": {},
   "outputs": [
    {
     "data": {
      "image/png": "[encoded data removed]",
      "text/plain": [
       "<Figure size 640x480 with 1 Axes>"
      ]
     },
     "metadata": {},
     "output_type": "display_data"
    }
   ],
   "source": [
    "plt.figure()\n",
    "\n",
    "plt.plot(X_test, true_function(X_test), 'r:', label=\"True function\")\n",
    "\n",
    "plt.plot(X_train, y_train, 'r.', markersize=10, label=\"Training data\")\n",
    "\n",
    "plt.plot(X_test, mu, 'b-', label=\"Prediction\")\n",
    "\n",
    "plt.fill_between(\n",
    "    X_test.ravel(),\n",
    "    mu - 1.96 * std_dev,\n",
    "    mu + 1.96 * std_dev,\n",
    "    alpha=0.2,\n",
    "    color='b',\n",
    "    label=\"Confidence interval\"\n",
    ")\n",
    "\n",
    "plt.xlabel('X')\n",
    "plt.ylabel('y')\n",
    "plt.title('Gaussian Process Regression')\n",
    "plt.legend()\n",
    "\n",
    "plt.show()"
   ]
  },
  {
   "cell_type": "markdown",
   "id": "8439a540-1d1d-4f47-a41a-91713854ff9a",
   "metadata": {},
   "source": [
    "### 5) [6 pts] (Lower Confidence Bound) For each value in X_test of Q. 3), compute lower confidence bound value."
   ]
  },
  {
   "cell_type": "code",
   "execution_count": 49,
   "id": "94c718ca-8eb3-4967-bd59-adb2065a6f5c",
   "metadata": {},
   "outputs": [
    {
     "name": "stdout",
     "output_type": "stream",
     "text": [
      "LCB values for X_test:\n",
      " [-1.61712041  0.21809277 -2.00811055 -1.76027937 -1.28953698  0.0977164\n",
      "  0.47323105 -0.41430301 -1.87743792 -1.96668663]\n",
      "\n",
      "Next hyperparameter value (X) to evaluate based on LCB: [2.22222222]\n"
     ]
    }
   ],
   "source": [
    "kappa = 1.96  # 95% confidence level\n",
    "\n",
    "LCB = mu - kappa * std_dev\n",
    "\n",
    "optimal_index = np.argmin(LCB)\n",
    "optimal_x = X_test[optimal_index]\n",
    "\n",
    "print(\"LCB values for X_test:\\n\", LCB)\n",
    "print(\"\\nNext hyperparameter value (X) to evaluate based on LCB:\", optimal_x)"
   ]
  }
 ],
 "metadata": {
  "kernelspec": {
   "display_name": "Python 3 (ipykernel)",
   "language": "python",
   "name": "python3"
  },
  "language_info": {
   "codemirror_mode": {
    "name": "ipython",
    "version": 3
   },
   "file_extension": ".py",
   "mimetype": "text/x-python",
   "name": "python",
   "nbconvert_exporter": "python",
   "pygments_lexer": "ipython3",
   "version": "3.11.6"
  }
 },
 "nbformat": 4,
 "nbformat_minor": 5
}
